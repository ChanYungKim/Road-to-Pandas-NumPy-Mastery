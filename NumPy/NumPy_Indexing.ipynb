{
 "cells": [
  {
   "cell_type": "code",
   "execution_count": 15,
   "id": "9c1ccfee",
   "metadata": {},
   "outputs": [],
   "source": [
    "import numpy as np\n",
    "from pprint import pprint\n",
    "from tabulate import tabulate"
   ]
  },
  {
   "cell_type": "markdown",
   "id": "69a1a691",
   "metadata": {},
   "source": [
    "# Dimensional Indexing Tools\n",
    "### - Ellipsis\n",
    "### - newaxis"
   ]
  },
  {
   "cell_type": "code",
   "execution_count": 2,
   "id": "f023033a",
   "metadata": {},
   "outputs": [
    {
     "name": "stdout",
     "output_type": "stream",
     "text": [
      "[ 1  2  3  4  5  6  7  8  9 10]\n",
      "2\n",
      "6\n"
     ]
    }
   ],
   "source": [
    "# Ellipsis\n",
    "\n",
    "a1D = np.array([1, 2, 3, 4, 5, 6, 7, 8, 9, 10])\n",
    "\n",
    "a1D_ellipsis_all = a1D[...]\n",
    "print (a1D_ellipsis_all)\n",
    "\n",
    "a1D_ellipsis_step_size_two = a1D[..., 1]\n",
    "print (a1D_ellipsis_step_size_two)\n",
    "a1D_ellipsis_step_size_two = a1D[..., 5]\n",
    "print (a1D_ellipsis_step_size_two)"
   ]
  },
  {
   "cell_type": "code",
   "execution_count": 3,
   "id": "6762a054",
   "metadata": {},
   "outputs": [
    {
     "name": "stdout",
     "output_type": "stream",
     "text": [
      "(3, 4)\n",
      "[ 3  7 11]\n"
     ]
    }
   ],
   "source": [
    "x = np.array( [ [1, 2, 3, 4], [5, 6, 7, 8], [9, 10, 11, 12] ] )\n",
    "print (x.shape)\n",
    "\n",
    "x_ellipsis = x[..., 2]\n",
    "print (x_ellipsis)"
   ]
  },
  {
   "cell_type": "code",
   "execution_count": 8,
   "id": "f54a88ff",
   "metadata": {},
   "outputs": [
    {
     "name": "stdout",
     "output_type": "stream",
     "text": [
      "shape :  (2, 2, 2)\n",
      "[[2 4]\n",
      " [6 8]]\n",
      "[4 8]\n"
     ]
    }
   ],
   "source": [
    "x = np.array( [ [ [1, 2], [3, 4] ], [ [5, 6], [7, 8] ] ] ) # ==> 3D array\n",
    "print (\"shape : \", x.shape)\n",
    "\n",
    "x_ellipsis = x[..., 1] #  ==> [2, 4] [6, 8]\n",
    "print (x_ellipsis)\n",
    "\n",
    "x_ellipsis = x[..., 1, 1] #  ==> 4, 8\n",
    "print (x_ellipsis)"
   ]
  },
  {
   "cell_type": "code",
   "execution_count": 4,
   "id": "34e871cc",
   "metadata": {},
   "outputs": [
    {
     "name": "stdout",
     "output_type": "stream",
     "text": [
      "(3, 4)\n",
      "(3, 1, 4)\n",
      "[[[ 1  2  3  4]]\n",
      "\n",
      " [[ 5  6  7  8]]\n",
      "\n",
      " [[ 9 10 11 12]]]\n"
     ]
    }
   ],
   "source": [
    "# newaxis ==> to expand the dimensions\n",
    "\n",
    "x = np.array( [ [1, 2, 3, 4], [5, 6, 7, 8], [9, 10, 11, 12] ] )\n",
    "print (x.shape)\n",
    "\n",
    "x_newaxis = x[:, np.newaxis, :]\n",
    "print (x_newaxis.shape)\n",
    "print (x_newaxis)"
   ]
  },
  {
   "cell_type": "markdown",
   "id": "510d01d7",
   "metadata": {},
   "source": [
    "# Advanced Indexing"
   ]
  },
  {
   "cell_type": "code",
   "execution_count": 51,
   "id": "d0c4976e",
   "metadata": {},
   "outputs": [
    {
     "name": "stdout",
     "output_type": "stream",
     "text": [
      "q : \n",
      "+---+---+---+\n",
      "| 1 | 2 | 3 |\n",
      "+---+---+---+\n",
      "| 4 | 5 | 6 |\n",
      "+---+---+---+\n",
      "| 7 | 8 | 9 |\n",
      "+---+---+---+\n",
      "\n",
      "w : \n",
      "+---+---+---+\n",
      "| 1 | 2 | 3 |\n",
      "+---+---+---+\n",
      "| 7 | 8 | 9 |\n",
      "+---+---+---+\n",
      "\n",
      "e : \n",
      "[1 6]\n"
     ]
    }
   ],
   "source": [
    "q = np.array( [ [1, 2, 3], [4, 5, 6], [7, 8, 9] ]) # ==> 3 by 3 array\n",
    "print (\"q : \")\n",
    "print (tabulate(q, tablefmt=\"grid\"), end=\"\\n\\n\")\n",
    "\n",
    "w = q[ [0, 2] ]\n",
    "print (\"w : \")\n",
    "print (tabulate(w, tablefmt=\"grid\"), end=\"\\n\\n\")\n",
    "\n",
    "e = q[ [0, 1], [0, 2] ]\n",
    "print (\"e : \")\n",
    "print (e)"
   ]
  },
  {
   "cell_type": "code",
   "execution_count": 50,
   "id": "fbae3a59",
   "metadata": {},
   "outputs": [
    {
     "name": "stdout",
     "output_type": "stream",
     "text": [
      "q : \n",
      "+----+----+----+----+\n",
      "|  0 |  1 |  2 |  3 |\n",
      "+----+----+----+----+\n",
      "|  7 |  8 |  9 | 10 |\n",
      "+----+----+----+----+\n",
      "| 14 | 15 | 16 | 17 |\n",
      "+----+----+----+----+\n",
      "| 21 | 22 | 23 | 24 |\n",
      "+----+----+----+----+\n",
      "\n",
      "w : \n",
      "[ 3 17]\n"
     ]
    }
   ],
   "source": [
    "q = np.array( [ [0, 1, 2, 3], [7, 8, 9, 10], [14, 15, 16, 17], [21, 22, 23, 24] ] ) # ==> 4 by 4 array\n",
    "print (\"q : \")\n",
    "print (tabulate(q, tablefmt=\"grid\"), end=\"\\n\\n\")\n",
    "\n",
    "w = q[ [0, 2], 3 ] # [3, 17]\n",
    "print (\"w : \")\n",
    "print (w)"
   ]
  },
  {
   "cell_type": "markdown",
   "id": "a52f762d",
   "metadata": {},
   "source": [
    "# Boolean Array Indexing"
   ]
  },
  {
   "cell_type": "code",
   "execution_count": 83,
   "id": "d64e79d7",
   "metadata": {},
   "outputs": [
    {
     "name": "stdout",
     "output_type": "stream",
     "text": [
      "q : \n",
      "+----+----+----+----+\n",
      "|  0 |  1 |  2 |  3 |\n",
      "+----+----+----+----+\n",
      "|  7 |  8 |  9 | 10 |\n",
      "+----+----+----+----+\n",
      "| 14 | 15 | 16 | 17 |\n",
      "+----+----+----+----+\n",
      "| 21 | 22 | 23 | 24 |\n",
      "+----+----+----+----+\n",
      "\n",
      "w = q[ [True, False, True, False] ] : \n",
      "+----+----+----+----+\n",
      "|  0 |  1 |  2 |  3 |\n",
      "+----+----+----+----+\n",
      "| 14 | 15 | 16 | 17 |\n",
      "+----+----+----+----+\n",
      "\n",
      "e = q >= 10 : \n",
      "+---+---+---+---+\n",
      "| 0 | 0 | 0 | 0 |\n",
      "+---+---+---+---+\n",
      "| 0 | 0 | 0 | 1 |\n",
      "+---+---+---+---+\n",
      "| 1 | 1 | 1 | 1 |\n",
      "+---+---+---+---+\n",
      "| 1 | 1 | 1 | 1 |\n",
      "+---+---+---+---+\n",
      "\n",
      "r = q[ e[..., 3] ] : \n",
      "+----+----+----+----+\n",
      "|  7 |  8 |  9 | 10 |\n",
      "+----+----+----+----+\n",
      "| 14 | 15 | 16 | 17 |\n",
      "+----+----+----+----+\n",
      "| 21 | 22 | 23 | 24 |\n",
      "+----+----+----+----+\n",
      "where e[..., 3] :  [False  True  True  True]\n",
      "\n"
     ]
    },
    {
     "ename": "IndexError",
     "evalue": "shape mismatch: indexing arrays could not be broadcast together with shapes (2,) (4,) ",
     "output_type": "error",
     "traceback": [
      "\u001b[0;31m---------------------------------------------------------------------------\u001b[0m",
      "\u001b[0;31mIndexError\u001b[0m                                Traceback (most recent call last)",
      "\u001b[0;32m/var/folders/wc/nvgbmh0x7ml8kz4pdsn0fp9w0000gn/T/ipykernel_14451/1831062281.py\u001b[0m in \u001b[0;36m<module>\u001b[0;34m\u001b[0m\n\u001b[1;32m     16\u001b[0m \u001b[0mprint\u001b[0m \u001b[0;34m(\u001b[0m\u001b[0;34m\"where e[..., 3] : \"\u001b[0m\u001b[0;34m,\u001b[0m \u001b[0me\u001b[0m\u001b[0;34m[\u001b[0m\u001b[0;34m...\u001b[0m\u001b[0;34m,\u001b[0m \u001b[0;36m3\u001b[0m\u001b[0;34m]\u001b[0m\u001b[0;34m,\u001b[0m \u001b[0mend\u001b[0m\u001b[0;34m=\u001b[0m\u001b[0;34m\"\\n\\n\"\u001b[0m\u001b[0;34m)\u001b[0m\u001b[0;34m\u001b[0m\u001b[0;34m\u001b[0m\u001b[0m\n\u001b[1;32m     17\u001b[0m \u001b[0;34m\u001b[0m\u001b[0m\n\u001b[0;32m---> 18\u001b[0;31m \u001b[0mx\u001b[0m \u001b[0;34m=\u001b[0m \u001b[0mq\u001b[0m\u001b[0;34m[\u001b[0m \u001b[0;34m[\u001b[0m\u001b[0;32mTrue\u001b[0m\u001b[0;34m,\u001b[0m \u001b[0;32mFalse\u001b[0m\u001b[0;34m,\u001b[0m \u001b[0;32mTrue\u001b[0m\u001b[0;34m,\u001b[0m \u001b[0;32mFalse\u001b[0m\u001b[0;34m]\u001b[0m\u001b[0;34m,\u001b[0m \u001b[0;34m[\u001b[0m\u001b[0;32mTrue\u001b[0m\u001b[0;34m,\u001b[0m \u001b[0;32mTrue\u001b[0m\u001b[0;34m,\u001b[0m \u001b[0;32mTrue\u001b[0m\u001b[0;34m,\u001b[0m \u001b[0;32mTrue\u001b[0m\u001b[0;34m]\u001b[0m \u001b[0;34m]\u001b[0m\u001b[0;34m\u001b[0m\u001b[0;34m\u001b[0m\u001b[0m\n\u001b[0m\u001b[1;32m     19\u001b[0m \u001b[0mprint\u001b[0m \u001b[0;34m(\u001b[0m\u001b[0;34m\"x = q[ [True, False, True, False], [0, 3] ]\"\u001b[0m\u001b[0;34m)\u001b[0m\u001b[0;34m\u001b[0m\u001b[0;34m\u001b[0m\u001b[0m\n\u001b[1;32m     20\u001b[0m \u001b[0mprint\u001b[0m \u001b[0;34m(\u001b[0m\u001b[0mx\u001b[0m\u001b[0;34m)\u001b[0m\u001b[0;34m\u001b[0m\u001b[0;34m\u001b[0m\u001b[0m\n",
      "\u001b[0;31mIndexError\u001b[0m: shape mismatch: indexing arrays could not be broadcast together with shapes (2,) (4,) "
     ]
    }
   ],
   "source": [
    "q = np.array( [ [0, 1, 2, 3], [7, 8, 9, 10], [14, 15, 16, 17], [21, 22, 23, 24] ] ) # ==> 4 by 4 array\n",
    "print (\"q : \")\n",
    "print (tabulate(q, tablefmt=\"grid\"), end=\"\\n\\n\")\n",
    "\n",
    "w = q[ [True, False, True, False] ]\n",
    "print (\"w = q[ [True, False, True, False] ] : \")\n",
    "print (tabulate(w, tablefmt=\"grid\"), end=\"\\n\\n\")\n",
    "\n",
    "e = q >= 10\n",
    "print (\"e = q >= 10 : \")\n",
    "print (tabulate(e, tablefmt=\"grid\"), end=\"\\n\\n\")\n",
    "\n",
    "r = q[ e[..., 3] ]\n",
    "print (\"r = q[ e[..., 3] ] : \")\n",
    "print (tabulate(r, tablefmt=\"grid\"))\n",
    "print (\"where e[..., 3] : \", e[..., 3], end=\"\\n\\n\")"
   ]
  },
  {
   "cell_type": "code",
   "execution_count": null,
   "id": "07f84b21",
   "metadata": {},
   "outputs": [],
   "source": []
  }
 ],
 "metadata": {
  "kernelspec": {
   "display_name": "Python 3 (ipykernel)",
   "language": "python",
   "name": "python3"
  },
  "language_info": {
   "codemirror_mode": {
    "name": "ipython",
    "version": 3
   },
   "file_extension": ".py",
   "mimetype": "text/x-python",
   "name": "python",
   "nbconvert_exporter": "python",
   "pygments_lexer": "ipython3",
   "version": "3.9.13"
  }
 },
 "nbformat": 4,
 "nbformat_minor": 5
}
