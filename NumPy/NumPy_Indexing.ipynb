{
 "cells": [
  {
   "cell_type": "code",
   "execution_count": 1,
   "id": "9c1ccfee",
   "metadata": {},
   "outputs": [],
   "source": [
    "import numpy as np\n",
    "from pprint import pprint\n",
    "from tabulate import tabulate"
   ]
  },
  {
   "cell_type": "markdown",
   "id": "69a1a691",
   "metadata": {},
   "source": [
    "# Dimensional Indexing Tools\n",
    "### - Ellipsis\n",
    "### - newaxis"
   ]
  },
  {
   "cell_type": "code",
   "execution_count": 2,
   "id": "f023033a",
   "metadata": {},
   "outputs": [
    {
     "name": "stdout",
     "output_type": "stream",
     "text": [
      "[ 1  2  3  4  5  6  7  8  9 10]\n",
      "2\n",
      "6\n"
     ]
    }
   ],
   "source": [
    "# Ellipsis\n",
    "\n",
    "a1D = np.array([1, 2, 3, 4, 5, 6, 7, 8, 9, 10])\n",
    "\n",
    "a1D_ellipsis_all = a1D[...]\n",
    "print (a1D_ellipsis_all)\n",
    "\n",
    "a1D_ellipsis_step_size_two = a1D[..., 1]\n",
    "print (a1D_ellipsis_step_size_two)\n",
    "a1D_ellipsis_step_size_two = a1D[..., 5]\n",
    "print (a1D_ellipsis_step_size_two)"
   ]
  },
  {
   "cell_type": "code",
   "execution_count": 3,
   "id": "6762a054",
   "metadata": {},
   "outputs": [
    {
     "name": "stdout",
     "output_type": "stream",
     "text": [
      "(3, 4)\n",
      "[ 3  7 11]\n"
     ]
    }
   ],
   "source": [
    "x = np.array( [ [1, 2, 3, 4], [5, 6, 7, 8], [9, 10, 11, 12] ] )\n",
    "print (x.shape)\n",
    "\n",
    "x_ellipsis = x[..., 2]\n",
    "print (x_ellipsis)"
   ]
  },
  {
   "cell_type": "code",
   "execution_count": 4,
   "id": "c3d250fd",
   "metadata": {},
   "outputs": [
    {
     "name": "stdout",
     "output_type": "stream",
     "text": [
      "shape :  (2, 2, 2)\n",
      "[[2 4]\n",
      " [6 8]]\n",
      "[4 8]\n"
     ]
    }
   ],
   "source": [
    "x = np.array( [ [ [1, 2], [3, 4] ], [ [5, 6], [7, 8] ] ] ) # ==> 3D array\n",
    "print (\"shape : \", x.shape)\n",
    "\n",
    "x_ellipsis = x[..., 1] #  ==> [2, 4] [6, 8]\n",
    "print (x_ellipsis)\n",
    "\n",
    "x_ellipsis = x[..., 1, 1] #  ==> 4, 8\n",
    "print (x_ellipsis)"
   ]
  },
  {
   "cell_type": "code",
   "execution_count": 5,
   "id": "34e871cc",
   "metadata": {},
   "outputs": [
    {
     "name": "stdout",
     "output_type": "stream",
     "text": [
      "(3, 4)\n",
      "(3, 1, 4)\n",
      "[[[ 1  2  3  4]]\n",
      "\n",
      " [[ 5  6  7  8]]\n",
      "\n",
      " [[ 9 10 11 12]]]\n"
     ]
    }
   ],
   "source": [
    "# newaxis ==> to expand the dimensions\n",
    "\n",
    "x = np.array( [ [1, 2, 3, 4], [5, 6, 7, 8], [9, 10, 11, 12] ] )\n",
    "print (x.shape)\n",
    "\n",
    "x_newaxis = x[:, np.newaxis, :]\n",
    "print (x_newaxis.shape)\n",
    "print (x_newaxis)"
   ]
  },
  {
   "cell_type": "markdown",
   "id": "8be19ed2",
   "metadata": {},
   "source": [
    "# Advanced Indexing"
   ]
  },
  {
   "cell_type": "code",
   "execution_count": 6,
   "id": "760eda82",
   "metadata": {},
   "outputs": [
    {
     "name": "stdout",
     "output_type": "stream",
     "text": [
      "q : \n",
      "+---+---+---+\n",
      "| 1 | 2 | 3 |\n",
      "+---+---+---+\n",
      "| 4 | 5 | 6 |\n",
      "+---+---+---+\n",
      "| 7 | 8 | 9 |\n",
      "+---+---+---+\n",
      "\n",
      "w : \n",
      "+---+---+---+\n",
      "| 1 | 2 | 3 |\n",
      "+---+---+---+\n",
      "| 7 | 8 | 9 |\n",
      "+---+---+---+\n",
      "\n",
      "e : \n",
      "[1 6]\n"
     ]
    }
   ],
   "source": [
    "q = np.array( [ [1, 2, 3], [4, 5, 6], [7, 8, 9] ]) # ==> 3 by 3 array\n",
    "print (\"q : \")\n",
    "print (tabulate(q, tablefmt=\"grid\"), end=\"\\n\\n\")\n",
    "\n",
    "w = q[ [0, 2] ]\n",
    "print (\"w : \")\n",
    "print (tabulate(w, tablefmt=\"grid\"), end=\"\\n\\n\")\n",
    "\n",
    "e = q[ [0, 1], [0, 2] ]\n",
    "print (\"e : \")\n",
    "print (e)"
   ]
  },
  {
   "cell_type": "code",
   "execution_count": 7,
   "id": "c40e171e",
   "metadata": {},
   "outputs": [
    {
     "name": "stdout",
     "output_type": "stream",
     "text": [
      "q : \n",
      "+----+----+----+----+\n",
      "|  0 |  1 |  2 |  3 |\n",
      "+----+----+----+----+\n",
      "|  7 |  8 |  9 | 10 |\n",
      "+----+----+----+----+\n",
      "| 14 | 15 | 16 | 17 |\n",
      "+----+----+----+----+\n",
      "| 21 | 22 | 23 | 24 |\n",
      "+----+----+----+----+\n",
      "\n",
      "w : \n",
      "[ 3 17]\n"
     ]
    }
   ],
   "source": [
    "q = np.array( [ [0, 1, 2, 3], [7, 8, 9, 10], [14, 15, 16, 17], [21, 22, 23, 24] ] ) # ==> 4 by 4 array\n",
    "print (\"q : \")\n",
    "print (tabulate(q, tablefmt=\"grid\"), end=\"\\n\\n\")\n",
    "\n",
    "w = q[ [0, 2], 3 ] # [3, 17]\n",
    "print (\"w : \")\n",
    "print (w)"
   ]
  },
  {
   "cell_type": "markdown",
   "id": "81d1bcdb",
   "metadata": {},
   "source": [
    "# Boolean Array Indexing"
   ]
  },
  {
   "cell_type": "code",
   "execution_count": 8,
   "id": "bd439f10",
   "metadata": {},
   "outputs": [
    {
     "name": "stdout",
     "output_type": "stream",
     "text": [
      "q : \n",
      "+----+----+----+----+\n",
      "|  0 |  1 |  2 |  3 |\n",
      "+----+----+----+----+\n",
      "|  7 |  8 |  9 | 10 |\n",
      "+----+----+----+----+\n",
      "| 14 | 15 | 16 | 17 |\n",
      "+----+----+----+----+\n",
      "| 21 | 22 | 23 | 24 |\n",
      "+----+----+----+----+\n",
      "\n",
      "w = q[ [True, False, True, False] ] : \n",
      "+----+----+----+----+\n",
      "|  0 |  1 |  2 |  3 |\n",
      "+----+----+----+----+\n",
      "| 14 | 15 | 16 | 17 |\n",
      "+----+----+----+----+\n",
      "\n",
      "e = q >= 10 : \n",
      "+---+---+---+---+\n",
      "| 0 | 0 | 0 | 0 |\n",
      "+---+---+---+---+\n",
      "| 0 | 0 | 0 | 1 |\n",
      "+---+---+---+---+\n",
      "| 1 | 1 | 1 | 1 |\n",
      "+---+---+---+---+\n",
      "| 1 | 1 | 1 | 1 |\n",
      "+---+---+---+---+\n",
      "\n",
      "r = q[ e[..., 3] ] : \n",
      "+----+----+----+----+\n",
      "|  7 |  8 |  9 | 10 |\n",
      "+----+----+----+----+\n",
      "| 14 | 15 | 16 | 17 |\n",
      "+----+----+----+----+\n",
      "| 21 | 22 | 23 | 24 |\n",
      "+----+----+----+----+\n",
      "where e[..., 3] :  [False  True  True  True]\n",
      "\n"
     ]
    }
   ],
   "source": [
    "q = np.array( [ [0, 1, 2, 3], [7, 8, 9, 10], [14, 15, 16, 17], [21, 22, 23, 24] ] ) # ==> 4 by 4 array\n",
    "print (\"q : \")\n",
    "print (tabulate(q, tablefmt=\"grid\"), end=\"\\n\\n\")\n",
    "\n",
    "w = q[ [True, False, True, False] ]\n",
    "print (\"w = q[ [True, False, True, False] ] : \")\n",
    "print (tabulate(w, tablefmt=\"grid\"), end=\"\\n\\n\")\n",
    "\n",
    "e = q >= 10\n",
    "print (\"e = q >= 10 : \")\n",
    "print (tabulate(e, tablefmt=\"grid\"), end=\"\\n\\n\")\n",
    "\n",
    "r = q[ e[..., 3] ]\n",
    "print (\"r = q[ e[..., 3] ] : \")\n",
    "print (tabulate(r, tablefmt=\"grid\"))\n",
    "print (\"where e[..., 3] : \", e[..., 3], end=\"\\n\\n\")"
   ]
  },
  {
   "cell_type": "markdown",
   "id": "97430e9b",
   "metadata": {},
   "source": [
    "# ?? Field Access\n",
    "- Dictionary like ndarray"
   ]
  },
  {
   "cell_type": "code",
   "execution_count": 9,
   "id": "461e9239",
   "metadata": {},
   "outputs": [
    {
     "name": "stdout",
     "output_type": "stream",
     "text": [
      "[[(0, [[0., 0., 0.], [0., 0., 0.], [0., 0., 0.]])\n",
      "  (0, [[0., 0., 0.], [0., 0., 0.], [0., 0., 0.]])]\n",
      " [(0, [[0., 0., 0.], [0., 0., 0.], [0., 0., 0.]])\n",
      "  (0, [[0., 0., 0.], [0., 0., 0.], [0., 0., 0.]])]]\n",
      "+---+---+\n",
      "| 0 | 0 |\n",
      "+---+---+\n",
      "| 0 | 0 |\n",
      "+---+---+\n",
      "+--------------+--------------+\n",
      "| [[0. 0. 0.]  | [[0. 0. 0.]  |\n",
      "|  [0. 0. 0.]  |  [0. 0. 0.]  |\n",
      "|  [0. 0. 0.]] |  [0. 0. 0.]] |\n",
      "+--------------+--------------+\n",
      "| [[0. 0. 0.]  | [[0. 0. 0.]  |\n",
      "|  [0. 0. 0.]  |  [0. 0. 0.]  |\n",
      "|  [0. 0. 0.]] |  [0. 0. 0.]] |\n",
      "+--------------+--------------+\n",
      "[[ 0  1  2  3]\n",
      " [ 7  8  9 10]\n",
      " [14 15 16 17]]\n",
      "\n",
      "[[ 0  1  2  3]\n",
      " [ 7  8  9 10]\n",
      " [14 15 16 17]]\n",
      "\n",
      "[[ 0  1  2  3]\n",
      " [ 7  8  9 10]\n",
      " [14 15 16 17]]\n",
      "\n"
     ]
    }
   ],
   "source": [
    "x = np.zeros( (2, 2), dtype=[ ('a', np.int32), ('b', np.float64, (3, 3)) ] )\n",
    "print (x)\n",
    "print (tabulate(x['a'], tablefmt=\"grid\"))\n",
    "print (tabulate(x['b'], tablefmt=\"grid\"))\n",
    "\n",
    "q = np.array( [ [0, 1, 2, 3], [7, 8, 9, 10], [14, 15, 16, 17] ], dtype= [ ('w', np.int32), ('e', np.int32), ('r', np.int32) ] )\n",
    "\n",
    "w = q['w']\n",
    "print (w, end=\"\\n\\n\")\n",
    "\n",
    "e = q['e']\n",
    "print (e, end=\"\\n\\n\")\n",
    "\n",
    "r = q['r']\n",
    "print (r, end=\"\\n\\n\")"
   ]
  },
  {
   "cell_type": "markdown",
   "id": "93f1cc52",
   "metadata": {},
   "source": [
    "# Assigning Values to Indexed Arrays"
   ]
  },
  {
   "cell_type": "code",
   "execution_count": 10,
   "id": "cadca67c",
   "metadata": {},
   "outputs": [
    {
     "name": "stdout",
     "output_type": "stream",
     "text": [
      "[0 1 2 3 4 5 6 7 8 9]\n",
      "\n",
      "[0 1 1 1 1 1 1 7 8 9]\n",
      "\n",
      "[0 1 0 0 0 0 0 7 8 9]\n",
      "\n"
     ]
    }
   ],
   "source": [
    "q = np.arange(10)\n",
    "print (q, end=\"\\n\\n\")\n",
    "\n",
    "q[2:7] = 1\n",
    "print (q, end=\"\\n\\n\")\n",
    "\n",
    "q[2:7] = np.zeros(len(q[2:7]))\n",
    "print (q, end=\"\\n\\n\")"
   ]
  },
  {
   "cell_type": "code",
   "execution_count": 11,
   "id": "e710df04",
   "metadata": {},
   "outputs": [
    {
     "name": "stdout",
     "output_type": "stream",
     "text": [
      "[ 0 10 20 30 40]\n",
      "\n",
      "[ 0 11 20 31 40]\n",
      "\n"
     ]
    }
   ],
   "source": [
    "w = np.arange(0, 50, 10)\n",
    "print (w, end=\"\\n\\n\")\n",
    "\n",
    "w[np.array([1, 1, 3, 1])] += 1\n",
    "print (w, end=\"\\n\\n\")\n",
    "\n",
    "# The 1st location only incremented by 1 because a new array is extracted from the original (as a temporary) containing the values at 1, 1, 3, 1, then the value 1 is added to the temporary, and then the temporary is assigned back to the original array.\n",
    "# Thus the value of the array at x[1] + 1 is assigned to x[1] three times, rather than being incremented 3 times."
   ]
  },
  {
   "cell_type": "code",
   "execution_count": null,
   "id": "0c16e5ca",
   "metadata": {},
   "outputs": [],
   "source": []
  }
 ],
 "metadata": {
  "kernelspec": {
   "display_name": "Python 3 (ipykernel)",
   "language": "python",
   "name": "python3"
  },
  "language_info": {
   "codemirror_mode": {
    "name": "ipython",
    "version": 3
   },
   "file_extension": ".py",
   "mimetype": "text/x-python",
   "name": "python",
   "nbconvert_exporter": "python",
   "pygments_lexer": "ipython3",
   "version": "3.9.13"
  }
 },
 "nbformat": 4,
 "nbformat_minor": 5
}
