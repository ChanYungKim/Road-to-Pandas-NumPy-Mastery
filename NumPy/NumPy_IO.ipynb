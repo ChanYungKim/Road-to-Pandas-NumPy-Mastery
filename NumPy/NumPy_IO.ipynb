{
 "cells": [
  {
   "cell_type": "code",
   "execution_count": 1,
   "id": "3b25b320",
   "metadata": {},
   "outputs": [],
   "source": [
    "import numpy as np\n",
    "from io import StringIO\n",
    "from pprint import pprint\n",
    "from tabulate import tabulate"
   ]
  },
  {
   "cell_type": "markdown",
   "id": "51d837ef",
   "metadata": {},
   "source": [
    "# Importing Data\n",
    "\n",
    "### - .genfromtxt\n",
    "### - .loadtxt\n",
    "\n",
    "`genfromtxt` is slower than `loadtxt` but more flexible as `genfromtxt` take missing data into account"
   ]
  },
  {
   "cell_type": "code",
   "execution_count": 2,
   "id": "2adae780",
   "metadata": {},
   "outputs": [
    {
     "name": "stdout",
     "output_type": "stream",
     "text": [
      "+---+---+---+\n",
      "| 1 | 2 | 3 |\n",
      "+---+---+---+\n",
      "| 4 | 5 | 6 |\n",
      "+---+---+---+\n",
      "\n",
      "+-----+-----+----+\n",
      "|   1 |   2 |  3 |\n",
      "+-----+-----+----+\n",
      "|   4 |   5 | 67 |\n",
      "+-----+-----+----+\n",
      "| 890 | 123 |  4 |\n",
      "+-----+-----+----+\n",
      "\n",
      "+------+-----+----+\n",
      "| 1234 | 567 | 89 |\n",
      "+------+-----+----+\n",
      "|    4 |   7 |  9 |\n",
      "+------+-----+----+\n",
      "|    4 | 567 |  9 |\n",
      "+------+-----+----+\n",
      "\n",
      "+------+-----+----+\n",
      "| 1234 | 567 | 89 |\n",
      "+------+-----+----+\n",
      "|    4 |   7 |  9 |\n",
      "+------+-----+----+\n",
      "|   45 |  67 |  9 |\n",
      "+------+-----+----+\n",
      "\n"
     ]
    }
   ],
   "source": [
    "data = \"1, 2, 3\\n4, 5, 6\"\n",
    "q = np.genfromtxt(StringIO(data), delimiter=',')\n",
    "print (tabulate(q, tablefmt=\"grid\"), end=\"\\n\\n\")\n",
    "\n",
    "data = \"  1  2  3\\n  4  5 67\\n890123  4\"\n",
    "w = np.genfromtxt(StringIO(data), delimiter=3) # delimiter=3 ==> each column should consist 3 chars\n",
    "print (tabulate(w, tablefmt=\"grid\"), end=\"\\n\\n\")\n",
    "\n",
    "data = \"123456789\\n   4  7 9\\n   4567 9\"\n",
    "e = np.genfromtxt(StringIO(data), delimiter=(4, 3, 2))\n",
    "# delimiter=(4, 3, 2) ==> size of first column = 4, size of second column = 3, size of third column = 2\n",
    "print (tabulate(e, tablefmt=\"grid\"), end=\"\\n\\n\")\n",
    "\n",
    "data = \"123456789\\n   4  7 9\\n  4567 9\"\n",
    "r = np.genfromtxt(StringIO(data), delimiter=(4, 3, 2))\n",
    "# delimiter=(4, 3, 2) ==> size of first column = 4, size of second column = 3, size of third column = 2\n",
    "print (tabulate(r, tablefmt=\"grid\"), end=\"\\n\\n\")"
   ]
  },
  {
   "cell_type": "code",
   "execution_count": 3,
   "id": "7ef69efb",
   "metadata": {},
   "outputs": [
    {
     "name": "stdout",
     "output_type": "stream",
     "text": [
      "+---+-----+----+\n",
      "| 1 | abc |  2 |\n",
      "+---+-----+----+\n",
      "| 3 | xxx |  4 |\n",
      "+---+-----+----+\n",
      "\n",
      "+---+-----+---+\n",
      "| 1 | abc | 2 |\n",
      "+---+-----+---+\n",
      "| 3 | xxx | 4 |\n",
      "+---+-----+---+\n",
      "\n"
     ]
    }
   ],
   "source": [
    "data = \"1, abc , 2\\n 3, xxx, 4\"\n",
    "\n",
    "q = np.genfromtxt(StringIO(data), delimiter=',', dtype=\"|U5\")\n",
    "print (tabulate(q, tablefmt=\"grid\"), end=\"\\n\\n\")\n",
    "\n",
    "w = np.genfromtxt(StringIO(data), delimiter=\",\", autostrip=True, dtype=\"|U5\") # autostrip=True ==> removes white spaces\n",
    "print(tabulate(w, tablefmt=\"grid\"), end=\"\\n\\n\")"
   ]
  },
  {
   "cell_type": "code",
   "execution_count": 4,
   "id": "1ca6df1b",
   "metadata": {},
   "outputs": [
    {
     "name": "stdout",
     "output_type": "stream",
     "text": [
      "+---+---+---+---+\n",
      "| 1 | 2 | 3 | 4 |\n",
      "+---+---+---+---+\n",
      "| 5 | 6 | 7 | 8 |\n",
      "+---+---+---+---+\n",
      "\n"
     ]
    }
   ],
   "source": [
    "data = \"# this is a comment\\n1, 2, 3, 4\\n# this is a comment\\n5, 6, 7, 8\"\n",
    "q = np.genfromtxt(StringIO(data), comments='#', delimiter=',')\n",
    "print(tabulate(q, tablefmt=\"grid\"), end=\"\\n\\n\")"
   ]
  },
  {
   "cell_type": "markdown",
   "id": "6a8c04ad",
   "metadata": {},
   "source": [
    "# Skipping Lines & Choosing Columns\n",
    "### - skip_header arguments\n",
    "### - skip_footer arguments\n",
    "### - usecols arguments"
   ]
  },
  {
   "cell_type": "code",
   "execution_count": 5,
   "id": "0a938588",
   "metadata": {},
   "outputs": [
    {
     "name": "stdout",
     "output_type": "stream",
     "text": [
      "+---+---+---+\n",
      "| 1 | 2 | 3 |\n",
      "+---+---+---+\n",
      "| 4 | 5 | 6 |\n",
      "+---+---+---+\n",
      "\n",
      "w =  [4. 5. 6.]\n",
      "\n",
      "e =  [1. 2. 3.]\n",
      "\n",
      "+---+---+\n",
      "| 2 | 3 |\n",
      "+---+---+\n",
      "| 5 | 6 |\n",
      "+---+---+\n",
      "\n"
     ]
    }
   ],
   "source": [
    "data = \"1, 2, 3\\n4, 5, 6\"\n",
    "q = np.genfromtxt(StringIO(data), delimiter=',')\n",
    "print (tabulate(q, tablefmt=\"grid\"), end=\"\\n\\n\")\n",
    "\n",
    "w = np.genfromtxt(StringIO(data), delimiter=',', skip_header=1)\n",
    "print (\"w = \", w, end=\"\\n\\n\")\n",
    "\n",
    "e = np.genfromtxt(StringIO(data), delimiter=',', skip_footer=1)\n",
    "print (\"e = \", e, end=\"\\n\\n\")\n",
    "\n",
    "r = np.genfromtxt(StringIO(data), delimiter=',', usecols=(1,2))\n",
    "print (tabulate(r, tablefmt=\"grid\"), end=\"\\n\\n\")"
   ]
  },
  {
   "cell_type": "code",
   "execution_count": 6,
   "id": "ab2314c3",
   "metadata": {},
   "outputs": [
    {
     "name": "stdout",
     "output_type": "stream",
     "text": [
      "+---+----+\n",
      "| 1 |  4 |\n",
      "+---+----+\n",
      "| 5 |  8 |\n",
      "+---+----+\n",
      "| 9 | 12 |\n",
      "+---+----+\n",
      "\n",
      "+----+----+\n",
      "|  2 |  3 |\n",
      "+----+----+\n",
      "|  6 |  7 |\n",
      "+----+----+\n",
      "| 10 | 11 |\n",
      "+----+----+\n",
      "\n",
      "+---+----+\n",
      "| 1 |  4 |\n",
      "+---+----+\n",
      "| 5 |  8 |\n",
      "+---+----+\n",
      "| 9 | 12 |\n",
      "+---+----+\n",
      "\n",
      "+----+----+\n",
      "|  2 |  3 |\n",
      "+----+----+\n",
      "|  6 |  7 |\n",
      "+----+----+\n",
      "| 10 | 11 |\n",
      "+----+----+\n",
      "\n"
     ]
    }
   ],
   "source": [
    "# in the case of columns with names\n",
    "\n",
    "data = \"1, 2, 3, 4\\n5, 6, 7, 8\\n9, 10, 11, 12\"\n",
    "\n",
    "q = np.genfromtxt(StringIO(data), names=\"a, b, c, d\", delimiter=',', usecols=('a', 'd'))\n",
    "print (tabulate(q, tablefmt=\"grid\"), end=\"\\n\\n\")\n",
    "\n",
    "w = np.genfromtxt(StringIO(data), names=\"a, b, c, d\", delimiter=',', usecols=('b', 'c'))\n",
    "print (tabulate(w, tablefmt=\"grid\"), end=\"\\n\\n\")\n",
    "\n",
    "data = \"A, B, C, D\\n1, 2, 3, 4\\n5, 6, 7, 8\\n9, 10, 11, 12\"\n",
    "\n",
    "e = np.genfromtxt(StringIO(data), names=True, delimiter=',', usecols=('A', 'D'))\n",
    "print (tabulate(e, tablefmt=\"grid\"), end=\"\\n\\n\")\n",
    "\n",
    "r = np.genfromtxt(StringIO(data), names=True, delimiter=',', usecols=('B', 'C'))\n",
    "print (tabulate(r, tablefmt=\"grid\"), end=\"\\n\\n\")"
   ]
  },
  {
   "cell_type": "markdown",
   "id": "9b7759c4",
   "metadata": {},
   "source": [
    "# Conversion & Lamda Function\n",
    "### - converters argument"
   ]
  },
  {
   "cell_type": "code",
   "execution_count": 7,
   "id": "8495409e",
   "metadata": {},
   "outputs": [
    {
     "name": "stdout",
     "output_type": "stream",
     "text": [
      "+---+-----+----+\n",
      "| 1 | nan | 45 |\n",
      "+---+-----+----+\n",
      "| 6 | nan |  0 |\n",
      "+---+-----+----+\n",
      "\n",
      "+---+-------+----+\n",
      "| 1 | 0.023 | 45 |\n",
      "+---+-------+----+\n",
      "| 6 | 0.789 |  0 |\n",
      "+---+-------+----+\n",
      "\n"
     ]
    }
   ],
   "source": [
    "data = \"1, 2.3%, 45.\\n6, 78.9%, 0\"\n",
    "\n",
    "q = np.genfromtxt(StringIO(data), delimiter=',')\n",
    "print(tabulate(q, tablefmt=\"grid\"), end=\"\\n\\n\")\n",
    "\n",
    "lamda_convert_function = lambda x : float(x.strip(b'%'))/100. # <-- ***\n",
    "w = np.genfromtxt(StringIO(data), delimiter=',', converters={1:lamda_convert_function})\n",
    "print (tabulate(w, tablefmt=\"grid\"), end=\"\\n\\n\")"
   ]
  },
  {
   "cell_type": "markdown",
   "id": "456d455b",
   "metadata": {},
   "source": [
    "# Missing & Filling Values\n",
    "### - ??? missing_values argument\n",
    "### - filling_values argument"
   ]
  },
  {
   "cell_type": "code",
   "execution_count": 8,
   "id": "ff25635a",
   "metadata": {},
   "outputs": [
    {
     "name": "stdout",
     "output_type": "stream",
     "text": [
      "+-----+-----+-----+\n",
      "| nan |   2 |   3 |\n",
      "+-----+-----+-----+\n",
      "|   4 | nan | nan |\n",
      "+-----+-----+-----+\n",
      "| nan |  10 | nan |\n",
      "+-----+-----+-----+\n",
      "\n",
      "+-----+-----+-----+\n",
      "| 111 |   2 |   3 |\n",
      "+-----+-----+-----+\n",
      "|   4 | 222 | nan |\n",
      "+-----+-----+-----+\n",
      "| 111 |  10 | nan |\n",
      "+-----+-----+-----+\n",
      "\n",
      "+-----+-----+-----+\n",
      "| nan |   2 |   3 |\n",
      "+-----+-----+-----+\n",
      "|   4 | nan | 333 |\n",
      "+-----+-----+-----+\n",
      "| nan |  10 | 333 |\n",
      "+-----+-----+-----+\n",
      "\n",
      "+-----+-----+-----+\n",
      "| 111 |   2 |   3 |\n",
      "+-----+-----+-----+\n",
      "|   4 | 222 | 333 |\n",
      "+-----+-----+-----+\n",
      "| 111 |  10 | 333 |\n",
      "+-----+-----+-----+\n",
      "\n"
     ]
    }
   ],
   "source": [
    "data = \"N/A, 2, 3\\n4, ,???\\n???, 10, N/A\"\n",
    "\n",
    "q = np.genfromtxt(StringIO(data), delimiter=',')\n",
    "print (tabulate(q, tablefmt=\"grid\"), end=\"\\n\\n\")\n",
    "\n",
    "w = np.genfromtxt(StringIO(data), delimiter=',', filling_values={0:111, 1:222})\n",
    "print (tabulate(w, tablefmt=\"grid\"), end=\"\\n\\n\")\n",
    "\n",
    "e = np.genfromtxt(StringIO(data), delimiter=',', filling_values={2:333})\n",
    "print (tabulate(e, tablefmt=\"grid\"), end=\"\\n\\n\")\n",
    "\n",
    "r = np.genfromtxt(StringIO(data), delimiter=',', filling_values={0:111, 1:222, 2:333})\n",
    "print (tabulate(r, tablefmt=\"grid\"), end=\"\\n\\n\")"
   ]
  },
  {
   "cell_type": "code",
   "execution_count": null,
   "id": "d8ca53c1",
   "metadata": {},
   "outputs": [],
   "source": []
  }
 ],
 "metadata": {
  "kernelspec": {
   "display_name": "Python 3 (ipykernel)",
   "language": "python",
   "name": "python3"
  },
  "language_info": {
   "codemirror_mode": {
    "name": "ipython",
    "version": 3
   },
   "file_extension": ".py",
   "mimetype": "text/x-python",
   "name": "python",
   "nbconvert_exporter": "python",
   "pygments_lexer": "ipython3",
   "version": "3.9.13"
  }
 },
 "nbformat": 4,
 "nbformat_minor": 5
}
