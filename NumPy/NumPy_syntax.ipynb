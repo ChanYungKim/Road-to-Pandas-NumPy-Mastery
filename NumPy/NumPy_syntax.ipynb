{
 "cells": [
  {
   "cell_type": "code",
   "execution_count": 1,
   "id": "f6ae3034",
   "metadata": {},
   "outputs": [],
   "source": [
    "import numpy as np"
   ]
  },
  {
   "cell_type": "markdown",
   "id": "c20d07f0",
   "metadata": {},
   "source": [
    "general methods for ndarray creation"
   ]
  },
  {
   "cell_type": "code",
   "execution_count": 2,
   "id": "d35ecd42",
   "metadata": {},
   "outputs": [],
   "source": [
    "# from Python lists\n",
    "a1D = np.array([1, 2, 3, 4])\n",
    "\n",
    "a2D = np.array([[1, 2], [3, 4]])\n",
    "\n",
    "a3D = np.array([[[1, 2], [3, 4]], [[5, 6], [7, 8]]]) # layers of 2D arrays"
   ]
  },
  {
   "cell_type": "code",
   "execution_count": 3,
   "id": "21c65e97",
   "metadata": {},
   "outputs": [],
   "source": [
    "# from Python tuples\n",
    "a1D = np.array((1, 2, 3, 4))\n",
    "\n",
    "a2D = np.array(((1, 2), (3, 4)))\n",
    "\n",
    "a3D = np.array((((1, 2), (3, 4)), ((5, 6), (7, 8)))) # layers of 2D arrays"
   ]
  },
  {
   "cell_type": "markdown",
   "id": "eef24aa4",
   "metadata": {},
   "source": [
    "1 dimensional creation functions"
   ]
  },
  {
   "cell_type": "code",
   "execution_count": 4,
   "id": "56cea9fc",
   "metadata": {},
   "outputs": [
    {
     "name": "stdout",
     "output_type": "stream",
     "text": [
      "[0 1 2 3 4 5 6 7 8 9]\n",
      "[0 2 4 6 8]\n"
     ]
    }
   ],
   "source": [
    "# .arange ( start, stop <excluding> , step size )\n",
    "a1D_one = np.arange(0, 10, 1)\n",
    "print (a1D_one)\n",
    "\n",
    "a1D_two = np.arange(0, 10, 2)\n",
    "print (a1D_two)"
   ]
  },
  {
   "cell_type": "code",
   "execution_count": 5,
   "id": "8e9a29cf",
   "metadata": {},
   "outputs": [
    {
     "name": "stdout",
     "output_type": "stream",
     "text": [
      "[0.   2.25 4.5  6.75 9.  ]\n",
      "[ 0.  2.  4.  6.  8. 10.]\n",
      "[0. 1. 2. 3. 4. 5. 6. 7. 8. 9.]\n"
     ]
    }
   ],
   "source": [
    "# .linspace ( start, stop <including> , number of elements)\n",
    "\n",
    "a1D_one = np.linspace(0, 9, 5)\n",
    "print (a1D_one) # 5 elements from 0 to 9 with equal space, 2.25\n",
    "\n",
    "a1D_two = np.linspace(0, 10, 6)\n",
    "print (a1D_two) # 6 elements from 0 to 10 with equal space, 2\n",
    "\n",
    "a1D_three = np.linspace(0, 9, 10)\n",
    "print (a1D_three) # 10 elements from 0 to 10 with equal space, 1"
   ]
  },
  {
   "cell_type": "markdown",
   "id": "3bb664a8",
   "metadata": {},
   "source": [
    "2 dimensional creation functions"
   ]
  },
  {
   "cell_type": "code",
   "execution_count": 6,
   "id": "b69c74cd",
   "metadata": {},
   "outputs": [
    {
     "name": "stdout",
     "output_type": "stream",
     "text": [
      "[[1. 0. 0. 0. 0.]\n",
      " [0. 1. 0. 0. 0.]\n",
      " [0. 0. 1. 0. 0.]]\n"
     ]
    }
   ],
   "source": [
    "# .eye ( n, m ) --> 2D identify matrix, where the elements i=j are 1 and the rest are 0\n",
    "\n",
    "a2D_identify = np.eye(3, 5)\n",
    "print (a2D_identify) # [0, 0] = 1, [1, 1] = 1, [2, 2] = 1"
   ]
  },
  {
   "cell_type": "code",
   "execution_count": 7,
   "id": "7bf28ef1",
   "metadata": {},
   "outputs": [
    {
     "name": "stdout",
     "output_type": "stream",
     "text": [
      "[[1 0 0]\n",
      " [0 2 0]\n",
      " [0 0 3]]\n",
      "[[0 0 1 0 0]\n",
      " [0 0 0 2 0]\n",
      " [0 0 0 0 3]\n",
      " [0 0 0 0 0]\n",
      " [0 0 0 0 0]]\n",
      "[[1 0 0]\n",
      " [0 2 0]\n",
      " [0 0 3]]\n",
      "[[0 0 5 0 0]\n",
      " [0 0 0 6 0]\n",
      " [0 0 0 0 7]\n",
      " [0 0 0 0 0]\n",
      " [0 0 0 0 0]]\n"
     ]
    }
   ],
   "source": [
    "# .diag ( [list] or (tuple), starting vertical index ) --> square 2D array, n x n\n",
    "\n",
    "# using a list\n",
    "\n",
    "a2D_diagonal_one = np.diag([1, 2, 3])\n",
    "print (a2D_diagonal_one)\n",
    "\n",
    "a2D_diagonal_two = np.diag([1, 2, 3], 2)\n",
    "print (a2D_diagonal_two)\n",
    "\n",
    "# using a tuple\n",
    "\n",
    "a2D_diagonal_one = np.diag((1, 2, 3))\n",
    "print (a2D_diagonal_one)\n",
    "\n",
    "a2D_diagonal_two = np.diag((5, 6, 7), 2)\n",
    "print (a2D_diagonal_two)"
   ]
  },
  {
   "cell_type": "code",
   "execution_count": 8,
   "id": "ff11494b",
   "metadata": {},
   "outputs": [
    {
     "name": "stdout",
     "output_type": "stream",
     "text": [
      "[[  1   1   1   1   1]\n",
      " [ 16   8   4   2   1]\n",
      " [ 81  27   9   3   1]\n",
      " [256  64  16   4   1]]\n",
      "[[ 1  1  1]\n",
      " [ 4  2  1]\n",
      " [ 9  3  1]\n",
      " [16  4  1]]\n"
     ]
    }
   ],
   "source": [
    "# .vander ( [list] or (tuple), n ) --> Vandermode matrix, where the highest polynomial order is n-1\n",
    "\n",
    "a2D_vander_one = np.vander([1, 2, 3, 4], 5)\n",
    "print (a2D_vander_one)\n",
    "                           \n",
    "a2D_vander_two = np.vander([1, 2, 3, 4], 3)\n",
    "print (a2D_vander_two)"
   ]
  },
  {
   "cell_type": "markdown",
   "id": "0f30087d",
   "metadata": {},
   "source": [
    "general ndarray creation functions"
   ]
  },
  {
   "cell_type": "code",
   "execution_count": 9,
   "id": "861ee336",
   "metadata": {},
   "outputs": [
    {
     "name": "stdout",
     "output_type": "stream",
     "text": [
      "[[0. 0. 0.]\n",
      " [0. 0. 0.]]\n",
      "[[[0. 0.]\n",
      "  [0. 0.]\n",
      "  [0. 0.]]\n",
      "\n",
      " [[0. 0.]\n",
      "  [0. 0.]\n",
      "  [0. 0.]]]\n",
      "[[1. 1. 1.]\n",
      " [1. 1. 1.]]\n",
      "[[[1. 1.]\n",
      "  [1. 1.]\n",
      "  [1. 1.]]\n",
      "\n",
      " [[1. 1.]\n",
      "  [1. 1.]\n",
      "  [1. 1.]]]\n"
     ]
    }
   ],
   "source": [
    "# .zeros ( x, y, z ... ) or .ones ( x, y, z ... )\n",
    "\n",
    "print (np.zeros((2, 3)))\n",
    "\n",
    "print (np.zeros((2, 3, 2)))\n",
    "\n",
    "print (np.ones((2, 3)))\n",
    "\n",
    "print (np.ones((2, 3, 2)))"
   ]
  },
  {
   "cell_type": "code",
   "execution_count": 10,
   "id": "165d6372",
   "metadata": {},
   "outputs": [
    {
     "name": "stdout",
     "output_type": "stream",
     "text": [
      "[0.44591037 0.5761562  0.0676724  0.35138044 0.56232349]\n",
      "[[8.47246844e-01 8.13922552e-01 1.34418579e-04 8.20880309e-01\n",
      "  5.23639686e-01]\n",
      " [5.15969204e-01 1.75026727e-01 3.46544010e-01 7.11080903e-01\n",
      "  7.44096868e-01]\n",
      " [7.07177686e-01 7.78307781e-01 1.52777557e-01 4.45733645e-02\n",
      "  6.00291492e-01]\n",
      " [8.77185669e-01 8.42150793e-01 3.93094295e-01 8.76169921e-01\n",
      "  9.40591353e-01]\n",
      " [6.08531191e-01 2.40311463e-01 7.09304207e-01 6.69003681e-01\n",
      "  3.44113063e-01]]\n"
     ]
    }
   ],
   "source": [
    "# .random.random( (x, y, z, ...) ) \n",
    "\n",
    "a1D_random = np.random.random((5))\n",
    "print (a1D_random)\n",
    "\n",
    "a2D_random = np.random.random((5, 5))\n",
    "print (a2D_random)"
   ]
  },
  {
   "cell_type": "code",
   "execution_count": 11,
   "id": "c79aceac",
   "metadata": {},
   "outputs": [
    {
     "name": "stdout",
     "output_type": "stream",
     "text": [
      "[[[0 0 0]\n",
      "  [1 1 1]]\n",
      "\n",
      " [[0 1 2]\n",
      "  [0 1 2]]]\n",
      "[[[0 0 0 0 0 0 0 0]\n",
      "  [1 1 1 1 1 1 1 1]\n",
      "  [2 2 2 2 2 2 2 2]\n",
      "  [3 3 3 3 3 3 3 3]]\n",
      "\n",
      " [[0 1 2 3 4 5 6 7]\n",
      "  [0 1 2 3 4 5 6 7]\n",
      "  [0 1 2 3 4 5 6 7]\n",
      "  [0 1 2 3 4 5 6 7]]]\n"
     ]
    }
   ],
   "source": [
    "# .indices () --> returns an array representing the indices of a grid\n",
    "\n",
    "print (np.indices((2, 3)))\n",
    "\n",
    "print (np.indices((4, 8)))"
   ]
  },
  {
   "cell_type": "markdown",
   "id": "eea8e6e6",
   "metadata": {},
   "source": [
    "replicating, joining, or mutating"
   ]
  },
  {
   "cell_type": "code",
   "execution_count": 12,
   "id": "c6c1fca4",
   "metadata": {},
   "outputs": [
    {
     "name": "stdout",
     "output_type": "stream",
     "text": [
      "a original = [1 2 3 4 5 6]\n",
      "a = [2 3 3 4 5 6] ; b = [2 3]\n"
     ]
    }
   ],
   "source": [
    "a = np.array([1, 2, 3, 4, 5, 6])\n",
    "print('a original =', a)\n",
    "\n",
    "b = a[:2]\n",
    "b += 1\n",
    "print('a =', a, '; b =', b)\n",
    "\n",
    "#  a new array is not created but a variable, b is created that viewed the first 2 elements of a"
   ]
  },
  {
   "cell_type": "code",
   "execution_count": 13,
   "id": "ddb557d9",
   "metadata": {},
   "outputs": [
    {
     "name": "stdout",
     "output_type": "stream",
     "text": [
      "a original = [1 2 3 4]\n",
      "a =  [1 2 3 4] b =  [2 3]\n"
     ]
    }
   ],
   "source": [
    "# to create a new copy of an array\n",
    "\n",
    "a = np.array([1, 2, 3, 4])\n",
    "print('a original =', a)\n",
    "\n",
    "b = a[:2].copy() # <-- *** .copy()\n",
    "b += 1\n",
    "print('a = ', a, 'b = ', b)"
   ]
  },
  {
   "cell_type": "code",
   "execution_count": 14,
   "id": "0c8e5ab7",
   "metadata": {},
   "outputs": [
    {
     "name": "stdout",
     "output_type": "stream",
     "text": [
      "[[0 0]\n",
      " [0 0]\n",
      " [5 5]\n",
      " [5 5]]\n",
      "[[0 0 5 5]\n",
      " [0 0 5 5]]\n",
      "[[1 1 2 2 3 3 4 4]\n",
      " [1 1 2 2 3 3 4 4]]\n",
      "[[1 1 2 2]\n",
      " [1 1 2 2]\n",
      " [3 3 4 4]\n",
      " [3 3 4 4]]\n"
     ]
    }
   ],
   "source": [
    "# to join the existing arrays\n",
    "\n",
    "A = np.array([[0, 0], [0, 0]])\n",
    "B = np.array([[5, 5], [5, 5]])\n",
    "\n",
    "a_vstack = np.vstack((A, B))\n",
    "print (a_vstack)\n",
    "\n",
    "a_hstack = np.hstack((A, B))\n",
    "print (a_hstack)\n",
    "\n",
    "A = np.array([[1, 1], [1, 1]])\n",
    "B = np.array([[2, 2], [2, 2]])\n",
    "C = np.array([[3, 3], [3, 3]])\n",
    "D = np.array([[4, 4], [4, 4]])\n",
    "\n",
    "a_block = np.block ([A, B, C, D])\n",
    "print (a_block)\n",
    "\n",
    "a_block = np.block ([[A, B], [C, D]])\n",
    "print (a_block)"
   ]
  },
  {
   "cell_type": "code",
   "execution_count": 23,
   "id": "a7699d33",
   "metadata": {},
   "outputs": [
    {
     "name": "stdout",
     "output_type": "stream",
     "text": [
      "[[0. 0.]\n",
      " [1. 1.]\n",
      " [2. 4.]\n",
      " [3. 9.]]\n",
      "[1. 2. 3.]\n"
     ]
    }
   ],
   "source": [
    "# using .loadtxt ()\n",
    "a_from_csv = np.loadtxt('simple.csv', delimiter = ',', skiprows = 1)\n",
    "print (a_from_csv)\n",
    "\n",
    "# using .genfromtxt ()\n",
    "from io import StringIO\n",
    "s = StringIO(\"1, 2, 3\")\n",
    "a_from_csv = np.genfromtxt(s, delimiter = ',')\n",
    "print (a_from_csv)"
   ]
  },
  {
   "cell_type": "code",
   "execution_count": null,
   "id": "3e874a20",
   "metadata": {},
   "outputs": [],
   "source": []
  }
 ],
 "metadata": {
  "kernelspec": {
   "display_name": "Python 3 (ipykernel)",
   "language": "python",
   "name": "python3"
  },
  "language_info": {
   "codemirror_mode": {
    "name": "ipython",
    "version": 3
   },
   "file_extension": ".py",
   "mimetype": "text/x-python",
   "name": "python",
   "nbconvert_exporter": "python",
   "pygments_lexer": "ipython3",
   "version": "3.9.13"
  }
 },
 "nbformat": 4,
 "nbformat_minor": 5
}
