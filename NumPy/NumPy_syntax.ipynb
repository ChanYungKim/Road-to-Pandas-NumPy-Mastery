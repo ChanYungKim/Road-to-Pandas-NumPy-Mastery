{
 "cells": [
  {
   "cell_type": "code",
   "execution_count": 1,
   "id": "92e947e2",
   "metadata": {},
   "outputs": [],
   "source": [
    "import numpy as np"
   ]
  },
  {
   "cell_type": "markdown",
   "id": "1d7aedc9",
   "metadata": {},
   "source": [
    "general methods for ndarray creation"
   ]
  },
  {
   "cell_type": "code",
   "execution_count": 2,
   "id": "d52d152a",
   "metadata": {},
   "outputs": [],
   "source": [
    "# from Python lists\n",
    "a1D = np.array([1, 2, 3, 4])\n",
    "\n",
    "a2D = np.array([[1, 2], [3, 4]])\n",
    "\n",
    "a3D = np.array([[[1, 2], [3, 4]], [[5, 6], [7, 8]]]) # layers of 2D arrays"
   ]
  },
  {
   "cell_type": "code",
   "execution_count": 3,
   "id": "cbebd4e6",
   "metadata": {},
   "outputs": [],
   "source": [
    "# from Python tuples\n",
    "a1D = np.array((1, 2, 3, 4))\n",
    "\n",
    "a2D = np.array(((1, 2), (3, 4)))\n",
    "\n",
    "a3D = np.array((((1, 2), (3, 4)), ((5, 6), (7, 8)))) # layers of 2D arrays"
   ]
  },
  {
   "cell_type": "markdown",
   "id": "997650d8",
   "metadata": {},
   "source": [
    "1 dimensional creation functions"
   ]
  },
  {
   "cell_type": "code",
   "execution_count": 4,
   "id": "638bd426",
   "metadata": {},
   "outputs": [
    {
     "name": "stdout",
     "output_type": "stream",
     "text": [
      "[0 1 2 3 4 5 6 7 8 9]\n",
      "[0 2 4 6 8]\n"
     ]
    }
   ],
   "source": [
    "# .arange ( start, stop <excluding> , step size )\n",
    "a1D_one = np.arange(0, 10, 1)\n",
    "print (a1D_one)\n",
    "\n",
    "a1D_two = np.arange(0, 10, 2)\n",
    "print (a1D_two)"
   ]
  },
  {
   "cell_type": "code",
   "execution_count": 5,
   "id": "d86f389f",
   "metadata": {},
   "outputs": [
    {
     "name": "stdout",
     "output_type": "stream",
     "text": [
      "[0.   2.25 4.5  6.75 9.  ]\n",
      "[ 0.  2.  4.  6.  8. 10.]\n",
      "[0. 1. 2. 3. 4. 5. 6. 7. 8. 9.]\n"
     ]
    }
   ],
   "source": [
    "# .linspace ( start, stop <including> , number of elements)\n",
    "\n",
    "a1D_one = np.linspace(0, 9, 5)\n",
    "print (a1D_one) # 5 elements from 0 to 9 with equal space, 2.25\n",
    "\n",
    "a1D_two = np.linspace(0, 10, 6)\n",
    "print (a1D_two) # 6 elements from 0 to 10 with equal space, 2\n",
    "\n",
    "a1D_three = np.linspace(0, 9, 10)\n",
    "print (a1D_three) # 10 elements from 0 to 10 with equal space, 1"
   ]
  },
  {
   "cell_type": "markdown",
   "id": "fec99087",
   "metadata": {},
   "source": [
    "2 dimensional creation functions"
   ]
  },
  {
   "cell_type": "code",
   "execution_count": 6,
   "id": "801ff90f",
   "metadata": {},
   "outputs": [
    {
     "name": "stdout",
     "output_type": "stream",
     "text": [
      "[[1. 0. 0. 0. 0.]\n",
      " [0. 1. 0. 0. 0.]\n",
      " [0. 0. 1. 0. 0.]]\n"
     ]
    }
   ],
   "source": [
    "# .eye ( n, m ) --> 2D identify matrix, where the elements i=j are 1 and the rest are 0\n",
    "\n",
    "a2D_identify = np.eye(3, 5)\n",
    "print (a2D_identify) # [0, 0] = 1, [1, 1] = 1, [2, 2] = 1"
   ]
  },
  {
   "cell_type": "code",
   "execution_count": 10,
   "id": "23fb3e63",
   "metadata": {},
   "outputs": [
    {
     "name": "stdout",
     "output_type": "stream",
     "text": [
      "[[1 0 0]\n",
      " [0 2 0]\n",
      " [0 0 3]]\n",
      "[[0 0 1 0 0]\n",
      " [0 0 0 2 0]\n",
      " [0 0 0 0 3]\n",
      " [0 0 0 0 0]\n",
      " [0 0 0 0 0]]\n",
      "[[1 0 0]\n",
      " [0 2 0]\n",
      " [0 0 3]]\n",
      "[[0 0 5 0 0]\n",
      " [0 0 0 6 0]\n",
      " [0 0 0 0 7]\n",
      " [0 0 0 0 0]\n",
      " [0 0 0 0 0]]\n"
     ]
    }
   ],
   "source": [
    "# .diag ( [list] or (tuple), starting vertical index ) --> square 2D array, n x n\n",
    "\n",
    "# using a list\n",
    "\n",
    "a2D_diagonal_one = np.diag([1, 2, 3])\n",
    "print (a2D_diagonal_one)\n",
    "\n",
    "a2D_diagonal_two = np.diag([1, 2, 3], 2)\n",
    "print (a2D_diagonal_two)\n",
    "\n",
    "# using a tuple\n",
    "\n",
    "a2D_diagonal_one = np.diag((1, 2, 3))\n",
    "print (a2D_diagonal_one)\n",
    "\n",
    "a2D_diagonal_two = np.diag((5, 6, 7), 2)\n",
    "print (a2D_diagonal_two)"
   ]
  },
  {
   "cell_type": "code",
   "execution_count": 11,
   "id": "80e956d1",
   "metadata": {},
   "outputs": [
    {
     "name": "stdout",
     "output_type": "stream",
     "text": [
      "[[  1   1   1   1   1]\n",
      " [ 16   8   4   2   1]\n",
      " [ 81  27   9   3   1]\n",
      " [256  64  16   4   1]]\n",
      "[[ 1  1  1]\n",
      " [ 4  2  1]\n",
      " [ 9  3  1]\n",
      " [16  4  1]]\n"
     ]
    }
   ],
   "source": [
    "# .vander ( [list] or (tuple), n ) --> Vandermode matrix, where the highest polynomial order is n-1\n",
    "\n",
    "a2D_vander_one = np.vander([1, 2, 3, 4], 5)\n",
    "print (a2D_vander_one)\n",
    "                           \n",
    "a2D_vander_two = np.vander([1, 2, 3, 4], 3)\n",
    "print (a2D_vander_two)"
   ]
  },
  {
   "cell_type": "markdown",
   "id": "513eb96f",
   "metadata": {},
   "source": [
    "general ndarray creation functions"
   ]
  },
  {
   "cell_type": "code",
   "execution_count": 14,
   "id": "765e46dd",
   "metadata": {},
   "outputs": [
    {
     "name": "stdout",
     "output_type": "stream",
     "text": [
      "[[0. 0. 0.]\n",
      " [0. 0. 0.]]\n",
      "[[[0. 0.]\n",
      "  [0. 0.]\n",
      "  [0. 0.]]\n",
      "\n",
      " [[0. 0.]\n",
      "  [0. 0.]\n",
      "  [0. 0.]]]\n",
      "[[1. 1. 1.]\n",
      " [1. 1. 1.]]\n",
      "[[[1. 1.]\n",
      "  [1. 1.]\n",
      "  [1. 1.]]\n",
      "\n",
      " [[1. 1.]\n",
      "  [1. 1.]\n",
      "  [1. 1.]]]\n"
     ]
    }
   ],
   "source": [
    "# .zeros ( x, y, z ... ) or .ones ( x, y, z ... )\n",
    "\n",
    "print (np.zeros((2, 3)))\n",
    "\n",
    "print (np.zeros((2, 3, 2)))\n",
    "\n",
    "print (np.ones((2, 3)))\n",
    "\n",
    "print (np.ones((2, 3, 2)))"
   ]
  },
  {
   "cell_type": "code",
   "execution_count": 20,
   "id": "8b0401b4",
   "metadata": {},
   "outputs": [
    {
     "name": "stdout",
     "output_type": "stream",
     "text": [
      "[0.25443203 0.3494983  0.20407296 0.4988618  0.36557464]\n",
      "[[0.33151354 0.22260476 0.29138664 0.53634277 0.87876966]\n",
      " [0.58883443 0.39350681 0.80960977 0.33039882 0.37493105]\n",
      " [0.8314491  0.83415966 0.09439742 0.37817378 0.31110487]\n",
      " [0.55161377 0.40309299 0.24296118 0.1713995  0.7040352 ]\n",
      " [0.66799187 0.12832423 0.25893745 0.99107946 0.11362335]]\n"
     ]
    }
   ],
   "source": [
    "# .random.random( (x, y, z, ...) ) \n",
    "\n",
    "a1D_random = np.random.random((5))\n",
    "print (a1D_random)\n",
    "\n",
    "a2D_random = np.random.random((5, 5))\n",
    "print (a2D_random)"
   ]
  },
  {
   "cell_type": "code",
   "execution_count": 25,
   "id": "241b6396",
   "metadata": {},
   "outputs": [
    {
     "name": "stdout",
     "output_type": "stream",
     "text": [
      "[[[0 0 0]\n",
      "  [1 1 1]]\n",
      "\n",
      " [[0 1 2]\n",
      "  [0 1 2]]]\n",
      "[[[0 0 0 0 0 0 0 0]\n",
      "  [1 1 1 1 1 1 1 1]\n",
      "  [2 2 2 2 2 2 2 2]\n",
      "  [3 3 3 3 3 3 3 3]]\n",
      "\n",
      " [[0 1 2 3 4 5 6 7]\n",
      "  [0 1 2 3 4 5 6 7]\n",
      "  [0 1 2 3 4 5 6 7]\n",
      "  [0 1 2 3 4 5 6 7]]]\n"
     ]
    }
   ],
   "source": [
    "# .indices () --> returns an array representing the indices of a grid\n",
    "\n",
    "print (np.indices((2, 3)))\n",
    "\n",
    "print (np.indices((4, 8)))"
   ]
  },
  {
   "cell_type": "code",
   "execution_count": null,
   "id": "923a3973",
   "metadata": {},
   "outputs": [],
   "source": [
    "\n"
   ]
  }
 ],
 "metadata": {
  "kernelspec": {
   "display_name": "Python 3 (ipykernel)",
   "language": "python",
   "name": "python3"
  },
  "language_info": {
   "codemirror_mode": {
    "name": "ipython",
    "version": 3
   },
   "file_extension": ".py",
   "mimetype": "text/x-python",
   "name": "python",
   "nbconvert_exporter": "python",
   "pygments_lexer": "ipython3",
   "version": "3.9.13"
  }
 },
 "nbformat": 4,
 "nbformat_minor": 5
}
