{
 "cells": [
  {
   "cell_type": "code",
   "execution_count": 1,
   "id": "3384b627",
   "metadata": {},
   "outputs": [],
   "source": [
    "import numpy as np"
   ]
  },
  {
   "cell_type": "markdown",
   "id": "1bd4b29f",
   "metadata": {},
   "source": [
    "general methods for ndarray creation"
   ]
  },
  {
   "cell_type": "code",
   "execution_count": 2,
   "id": "ebba47ba",
   "metadata": {},
   "outputs": [],
   "source": [
    "# from Python lists\n",
    "a1D = np.array([1, 2, 3, 4])\n",
    "\n",
    "a2D = np.array([[1, 2], [3, 4]])\n",
    "\n",
    "a3D = np.array([[[1, 2], [3, 4]], [[5, 6], [7, 8]]]) # layers of 2D arrays"
   ]
  },
  {
   "cell_type": "code",
   "execution_count": 3,
   "id": "f4182b45",
   "metadata": {},
   "outputs": [],
   "source": [
    "# from Python tuples\n",
    "a1D = np.array((1, 2, 3, 4))\n",
    "\n",
    "a2D = np.array(((1, 2), (3, 4)))\n",
    "\n",
    "a3D = np.array((((1, 2), (3, 4)), ((5, 6), (7, 8)))) # layers of 2D arrays"
   ]
  },
  {
   "cell_type": "markdown",
   "id": "a1f7084a",
   "metadata": {},
   "source": [
    "1 dimensional creation functions"
   ]
  },
  {
   "cell_type": "code",
   "execution_count": 4,
   "id": "d03a0e21",
   "metadata": {},
   "outputs": [
    {
     "name": "stdout",
     "output_type": "stream",
     "text": [
      "[0 1 2 3 4 5 6 7 8 9]\n",
      "[0 2 4 6 8]\n"
     ]
    }
   ],
   "source": [
    "# .arange ( start, stop <excluding> , step size )\n",
    "a1D_one = np.arange(0, 10, 1)\n",
    "print (a1D_one)\n",
    "\n",
    "a1D_two = np.arange(0, 10, 2)\n",
    "print (a1D_two)"
   ]
  },
  {
   "cell_type": "code",
   "execution_count": 5,
   "id": "e91056a3",
   "metadata": {},
   "outputs": [
    {
     "name": "stdout",
     "output_type": "stream",
     "text": [
      "[0.   2.25 4.5  6.75 9.  ]\n",
      "[ 0.  2.  4.  6.  8. 10.]\n",
      "[0. 1. 2. 3. 4. 5. 6. 7. 8. 9.]\n"
     ]
    }
   ],
   "source": [
    "# .linspace ( start, stop <including> , number of elements)\n",
    "\n",
    "a1D_one = np.linspace(0, 9, 5)\n",
    "print (a1D_one) # 5 elements from 0 to 9 with equal space, 2.25\n",
    "\n",
    "a1D_two = np.linspace(0, 10, 6)\n",
    "print (a1D_two) # 6 elements from 0 to 10 with equal space, 2\n",
    "\n",
    "a1D_three = np.linspace(0, 9, 10)\n",
    "print (a1D_three) # 10 elements from 0 to 10 with equal space, 1"
   ]
  },
  {
   "cell_type": "markdown",
   "id": "02a672fe",
   "metadata": {},
   "source": [
    "2 dimensional creation functions"
   ]
  },
  {
   "cell_type": "code",
   "execution_count": 6,
   "id": "90775951",
   "metadata": {},
   "outputs": [
    {
     "name": "stdout",
     "output_type": "stream",
     "text": [
      "[[1. 0. 0. 0. 0.]\n",
      " [0. 1. 0. 0. 0.]\n",
      " [0. 0. 1. 0. 0.]]\n"
     ]
    }
   ],
   "source": [
    "# .eye ( n, m ) --> 2D identify matrix, where the elements i=j are 1 and the rest are 0\n",
    "\n",
    "a2D_identify = np.eye(3, 5)\n",
    "print (a2D_identify) # [0, 0] = 1, [1, 1] = 1, [2, 2] = 1"
   ]
  },
  {
   "cell_type": "code",
   "execution_count": 7,
   "id": "afd8e845",
   "metadata": {},
   "outputs": [
    {
     "name": "stdout",
     "output_type": "stream",
     "text": [
      "[[1 0 0]\n",
      " [0 2 0]\n",
      " [0 0 3]]\n",
      "[[0 0 1 0 0]\n",
      " [0 0 0 2 0]\n",
      " [0 0 0 0 3]\n",
      " [0 0 0 0 0]\n",
      " [0 0 0 0 0]]\n",
      "[[1 0 0]\n",
      " [0 2 0]\n",
      " [0 0 3]]\n",
      "[[0 0 5 0 0]\n",
      " [0 0 0 6 0]\n",
      " [0 0 0 0 7]\n",
      " [0 0 0 0 0]\n",
      " [0 0 0 0 0]]\n"
     ]
    }
   ],
   "source": [
    "# .diag ( [list] or (tuple), starting vertical index ) --> square 2D array, n x n\n",
    "\n",
    "# using a list\n",
    "\n",
    "a2D_diagonal_one = np.diag([1, 2, 3])\n",
    "print (a2D_diagonal_one)\n",
    "\n",
    "a2D_diagonal_two = np.diag([1, 2, 3], 2)\n",
    "print (a2D_diagonal_two)\n",
    "\n",
    "# using a tuple\n",
    "\n",
    "a2D_diagonal_one = np.diag((1, 2, 3))\n",
    "print (a2D_diagonal_one)\n",
    "\n",
    "a2D_diagonal_two = np.diag((5, 6, 7), 2)\n",
    "print (a2D_diagonal_two)"
   ]
  },
  {
   "cell_type": "code",
   "execution_count": 8,
   "id": "8d200324",
   "metadata": {},
   "outputs": [
    {
     "name": "stdout",
     "output_type": "stream",
     "text": [
      "[[  1   1   1   1   1]\n",
      " [ 16   8   4   2   1]\n",
      " [ 81  27   9   3   1]\n",
      " [256  64  16   4   1]]\n",
      "[[ 1  1  1]\n",
      " [ 4  2  1]\n",
      " [ 9  3  1]\n",
      " [16  4  1]]\n"
     ]
    }
   ],
   "source": [
    "# .vander ( [list] or (tuple), n ) --> Vandermode matrix, where the highest polynomial order is n-11\n",
    "\n",
    "a2D_vander_one = np.vander([1, 2, 3, 4], 5)\n",
    "print (a2D_vander_one)\n",
    "                           \n",
    "a2D_vander_two = np.vander([1, 2, 3, 4], 3)\n",
    "print (a2D_vander_two)"
   ]
  },
  {
   "cell_type": "markdown",
   "id": "391c0ddd",
   "metadata": {},
   "source": [
    "general ndarray creation functions"
   ]
  },
  {
   "cell_type": "code",
   "execution_count": 9,
   "id": "dc489142",
   "metadata": {},
   "outputs": [
    {
     "name": "stdout",
     "output_type": "stream",
     "text": [
      "[[0. 0. 0.]\n",
      " [0. 0. 0.]]\n",
      "[[[0. 0.]\n",
      "  [0. 0.]\n",
      "  [0. 0.]]\n",
      "\n",
      " [[0. 0.]\n",
      "  [0. 0.]\n",
      "  [0. 0.]]]\n",
      "[[1. 1. 1.]\n",
      " [1. 1. 1.]]\n",
      "[[[1. 1.]\n",
      "  [1. 1.]\n",
      "  [1. 1.]]\n",
      "\n",
      " [[1. 1.]\n",
      "  [1. 1.]\n",
      "  [1. 1.]]]\n"
     ]
    }
   ],
   "source": [
    "# .zeros ( x, y, z ... ) or .ones ( x, y, z ... )\n",
    "\n",
    "print (np.zeros((2, 3)))\n",
    "\n",
    "print (np.zeros((2, 3, 2)))\n",
    "\n",
    "print (np.ones((2, 3)))\n",
    "\n",
    "print (np.ones((2, 3, 2)))"
   ]
  },
  {
   "cell_type": "code",
   "execution_count": 10,
   "id": "97605b1a",
   "metadata": {},
   "outputs": [
    {
     "name": "stdout",
     "output_type": "stream",
     "text": [
      "[0.88263548 0.32274514 0.1418657  0.25590833 0.62612583]\n",
      "[[0.40377519 0.32986906 0.06267587 0.42682167 0.0578524 ]\n",
      " [0.31730745 0.99097355 0.35777767 0.31247876 0.30180683]\n",
      " [0.85554975 0.14330659 0.30082241 0.00410087 0.93095992]\n",
      " [0.89105022 0.88038931 0.52291359 0.22424942 0.19730581]\n",
      " [0.46649518 0.21364023 0.9701436  0.96259758 0.77141953]]\n"
     ]
    }
   ],
   "source": [
    "# .random.random( (x, y, z, ...) ) \n",
    "\n",
    "a1D_random = np.random.random((5))\n",
    "print (a1D_random)\n",
    "\n",
    "a2D_random = np.random.random((5, 5))\n",
    "print (a2D_random)"
   ]
  },
  {
   "cell_type": "code",
   "execution_count": 11,
   "id": "b70147da",
   "metadata": {},
   "outputs": [
    {
     "name": "stdout",
     "output_type": "stream",
     "text": [
      "[[[0 0 0]\n",
      "  [1 1 1]]\n",
      "\n",
      " [[0 1 2]\n",
      "  [0 1 2]]]\n",
      "[[[0 0 0 0 0 0 0 0]\n",
      "  [1 1 1 1 1 1 1 1]\n",
      "  [2 2 2 2 2 2 2 2]\n",
      "  [3 3 3 3 3 3 3 3]]\n",
      "\n",
      " [[0 1 2 3 4 5 6 7]\n",
      "  [0 1 2 3 4 5 6 7]\n",
      "  [0 1 2 3 4 5 6 7]\n",
      "  [0 1 2 3 4 5 6 7]]]\n"
     ]
    }
   ],
   "source": [
    "# .indices () --> returns an array representing the indices of a grid\n",
    "\n",
    "print (np.indices((2, 3)))\n",
    "\n",
    "print (np.indices((4, 8)))"
   ]
  },
  {
   "cell_type": "markdown",
   "id": "761a0f22",
   "metadata": {},
   "source": [
    "replicating, joining, or mutating"
   ]
  },
  {
   "cell_type": "code",
   "execution_count": 12,
   "id": "f7feb353",
   "metadata": {},
   "outputs": [
    {
     "name": "stdout",
     "output_type": "stream",
     "text": [
      "a original = [1 2 3 4 5 6]\n",
      "a = [2 3 3 4 5 6] ; b = [2 3]\n"
     ]
    }
   ],
   "source": [
    "a = np.array([1, 2, 3, 4, 5, 6])\n",
    "print('a original =', a)\n",
    "\n",
    "b = a[:2]\n",
    "b += 1\n",
    "print('a =', a, '; b =', b)\n",
    "\n",
    "#  a new array is not created but a variable, b is created that viewed the first 2 elements of a"
   ]
  },
  {
   "cell_type": "code",
   "execution_count": 13,
   "id": "885b665f",
   "metadata": {},
   "outputs": [
    {
     "name": "stdout",
     "output_type": "stream",
     "text": [
      "a original = [1 2 3 4]\n",
      "a =  [1 2 3 4] b =  [2 3]\n"
     ]
    }
   ],
   "source": [
    "# to create a new copy of an array\n",
    "\n",
    "a = np.array([1, 2, 3, 4])\n",
    "print('a original =', a)\n",
    "\n",
    "b = a[:2].copy() # <-- *** .copy()\n",
    "b += 1\n",
    "print('a = ', a, 'b = ', b)"
   ]
  },
  {
   "cell_type": "code",
   "execution_count": 14,
   "id": "f6c04707",
   "metadata": {},
   "outputs": [
    {
     "name": "stdout",
     "output_type": "stream",
     "text": [
      "[[0 0]\n",
      " [0 0]\n",
      " [5 5]\n",
      " [5 5]]\n",
      "[[0 0 5 5]\n",
      " [0 0 5 5]]\n",
      "[[1 1 2 2 3 3 4 4]\n",
      " [1 1 2 2 3 3 4 4]]\n",
      "[[1 1 2 2]\n",
      " [1 1 2 2]\n",
      " [3 3 4 4]\n",
      " [3 3 4 4]]\n"
     ]
    }
   ],
   "source": [
    "# to join the existing arrays\n",
    "\n",
    "A = np.array([[0, 0], [0, 0]])\n",
    "B = np.array([[5, 5], [5, 5]])\n",
    "\n",
    "a_vstack = np.vstack((A, B))\n",
    "print (a_vstack)\n",
    "\n",
    "a_hstack = np.hstack((A, B))\n",
    "print (a_hstack)\n",
    "\n",
    "A = np.array([[1, 1], [1, 1]])\n",
    "B = np.array([[2, 2], [2, 2]])\n",
    "C = np.array([[3, 3], [3, 3]])\n",
    "D = np.array([[4, 4], [4, 4]])\n",
    "\n",
    "a_block = np.block ([A, B, C, D])\n",
    "print (a_block)\n",
    "\n",
    "a_block = np.block ([[A, B], [C, D]])\n",
    "print (a_block)"
   ]
  },
  {
   "cell_type": "code",
   "execution_count": 15,
   "id": "56507296",
   "metadata": {},
   "outputs": [
    {
     "name": "stdout",
     "output_type": "stream",
     "text": [
      "[[0. 0.]\n",
      " [1. 1.]\n",
      " [2. 4.]\n",
      " [3. 9.]]\n",
      "[1. 2. 3.]\n"
     ]
    }
   ],
   "source": [
    "# using .loadtxt ()\n",
    "a_from_csv = np.loadtxt('simple.csv', delimiter = ',', skiprows = 1)\n",
    "print (a_from_csv)\n",
    "\n",
    "# using .genfromtxt ()\n",
    "from io import StringIO\n",
    "s = StringIO(\"1, 2, 3\")\n",
    "a_from_csv = np.genfromtxt(s, delimiter = ',')\n",
    "print (a_from_csv)"
   ]
  },
  {
   "cell_type": "markdown",
   "id": "4dc86e28",
   "metadata": {},
   "source": [
    "**indexing**\n",
    "\n",
    "indexed using the standard Python x[obj] syntax"
   ]
  },
  {
   "cell_type": "code",
   "execution_count": 16,
   "id": "3dca687a",
   "metadata": {},
   "outputs": [
    {
     "name": "stdout",
     "output_type": "stream",
     "text": [
      "[[0 1 2 3 4]\n",
      " [5 6 7 8 9]]\n",
      "3\n",
      "7\n",
      "[0 1 2 3 4]\n",
      "[5 6 7 8 9]\n"
     ]
    }
   ],
   "source": [
    "x = np.array([[0, 1, 2, 3, 4], [5, 6, 7, 8, 9]])\n",
    "print (x)\n",
    "\n",
    "select_element_0_3 = x [0, 3]\n",
    "print (select_element_0_3) # ==> x[0][3]\n",
    "#print (x[0][3])\n",
    "\n",
    "select_element_1_2 = x [1, 2]\n",
    "print (select_element_1_2) # ==> x[1][2]\n",
    "#print (x[1][2])\n",
    "\n",
    "first_row = x [0]\n",
    "print (first_row) # subdimensional array and not a copy\n",
    "\n",
    "second_row = x [1]\n",
    "print (second_row) # subdimensional array and not a copy"
   ]
  },
  {
   "cell_type": "markdown",
   "id": "cad5660e",
   "metadata": {},
   "source": [
    "**slicing & striding**\n",
    "\n",
    "slice object is constructed by start : stop (excluding) : step notation inside of brackets"
   ]
  },
  {
   "cell_type": "code",
   "execution_count": 17,
   "id": "c2e3c11e",
   "metadata": {},
   "outputs": [
    {
     "name": "stdout",
     "output_type": "stream",
     "text": [
      "[1 3 5]\n",
      "[7 6 5 4]\n"
     ]
    }
   ],
   "source": [
    "x = np.array([0, 1, 2, 3, 4, 5, 6, 7, 8, 9])\n",
    "\n",
    "print (x[1:7:2])\n",
    "print (x[-3:3:-1])"
   ]
  },
  {
   "cell_type": "code",
   "execution_count": 18,
   "id": "d29ce4fd",
   "metadata": {},
   "outputs": [
    {
     "name": "stdout",
     "output_type": "stream",
     "text": [
      "[[0 1 2 3]\n",
      " [4 5 6 7]]\n",
      "[5 6 7]\n",
      "[[1 2]]\n",
      "[[1 2]\n",
      " [5 6]]\n"
     ]
    }
   ],
   "source": [
    "x = np.array([[0, 1, 2, 3], [4, 5, 6, 7], [8, 9, 10, 11]])\n",
    "\n",
    "print (x[0 : 2])\n",
    "print (x[0 : 2][1][1:4])\n",
    "print (x[0:1, 1:3])\n",
    "print (x[0:2, 1:3])"
   ]
  },
  {
   "cell_type": "code",
   "execution_count": 19,
   "id": "eeaf69a1",
   "metadata": {
    "scrolled": true
   },
   "outputs": [
    {
     "name": "stdout",
     "output_type": "stream",
     "text": [
      "[[[1]\n",
      "  [2]\n",
      "  [3]]\n",
      "\n",
      " [[4]\n",
      "  [5]\n",
      "  [6]]]\n",
      "[[1]\n",
      " [2]\n",
      " [3]]\n",
      "[[[1]\n",
      "  [2]\n",
      "  [3]]]\n",
      "[[[4]\n",
      "  [5]\n",
      "  [6]]]\n"
     ]
    }
   ],
   "source": [
    "x = np.array([[[1],[2],[3]], [[4],[5],[6]]])\n",
    "print (x)\n",
    "\n",
    "print (x[0])\n",
    "print (x[0:1])\n",
    "print (x[1:2])"
   ]
  },
  {
   "cell_type": "code",
   "execution_count": null,
   "id": "fab265c4",
   "metadata": {},
   "outputs": [],
   "source": []
  }
 ],
 "metadata": {
  "kernelspec": {
   "display_name": "Python 3 (ipykernel)",
   "language": "python",
   "name": "python3"
  },
  "language_info": {
   "codemirror_mode": {
    "name": "ipython",
    "version": 3
   },
   "file_extension": ".py",
   "mimetype": "text/x-python",
   "name": "python",
   "nbconvert_exporter": "python",
   "pygments_lexer": "ipython3",
   "version": "3.9.13"
  }
 },
 "nbformat": 4,
 "nbformat_minor": 5
}
