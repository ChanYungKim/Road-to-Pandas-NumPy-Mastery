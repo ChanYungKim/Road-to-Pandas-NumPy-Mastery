{
 "cells": [
  {
   "cell_type": "code",
   "execution_count": 1,
   "id": "b36b2343",
   "metadata": {},
   "outputs": [],
   "source": [
    "import numpy as np\n",
    "from io import StringIO\n",
    "from pprint import pprint\n",
    "from tabulate import tabulate"
   ]
  },
  {
   "cell_type": "markdown",
   "id": "417e2453",
   "metadata": {},
   "source": [
    "# Broadcasting\n",
    "- broadcasting describes how NumPy treats arrays with different shapes during arithmetic operations"
   ]
  },
  {
   "cell_type": "code",
   "execution_count": 2,
   "id": "a6fbff17",
   "metadata": {},
   "outputs": [
    {
     "name": "stdout",
     "output_type": "stream",
     "text": [
      "+------+------+------+\n",
      "|    1 |    2 |    3 |\n",
      "+------+------+------+\n",
      "|   10 |   20 |   30 |\n",
      "+------+------+------+\n",
      "|  100 |  200 |  300 |\n",
      "+------+------+------+\n",
      "| 1000 | 2000 | 3000 |\n",
      "+------+------+------+\n",
      "\n",
      "[10 10 10]\n",
      "\n",
      "+------+------+------+\n",
      "|   11 |   12 |   13 |\n",
      "+------+------+------+\n",
      "|   20 |   30 |   40 |\n",
      "+------+------+------+\n",
      "|  110 |  210 |  310 |\n",
      "+------+------+------+\n",
      "| 1010 | 2010 | 3010 |\n",
      "+------+------+------+\n",
      "\n"
     ]
    }
   ],
   "source": [
    "q = np.array( [ [1, 2, 3], [10, 20, 30], [100, 200, 300], [1000, 2000, 3000] ] ) # 4 by 3\n",
    "print (tabulate(q, tablefmt=\"grid\"), end=\"\\n\\n\")\n",
    "\n",
    "w = np.array( [10, 10, 10] ) # 1 by 3\n",
    "print (w, end=\"\\n\\n\")\n",
    "\n",
    "e = q + w # w stretched to 4 by 3 array\n",
    "print (tabulate(e, tablefmt=\"grid\"), end=\"\\n\\n\")"
   ]
  },
  {
   "cell_type": "code",
   "execution_count": 3,
   "id": "f698c1ad",
   "metadata": {},
   "outputs": [
    {
     "name": "stdout",
     "output_type": "stream",
     "text": [
      "w = \n",
      "+---+\n",
      "| 1 |\n",
      "+---+\n",
      "| 2 |\n",
      "+---+\n",
      "| 3 |\n",
      "+---+\n",
      "| 4 |\n",
      "+---+\n",
      "\n",
      "e = \n",
      "[10 20 30]\n",
      "\n",
      "+----+----+----+\n",
      "| 11 | 21 | 31 |\n",
      "+----+----+----+\n",
      "| 12 | 22 | 32 |\n",
      "+----+----+----+\n",
      "| 13 | 23 | 33 |\n",
      "+----+----+----+\n",
      "| 14 | 24 | 34 |\n",
      "+----+----+----+\n",
      "\n"
     ]
    }
   ],
   "source": [
    "q = np.array( [1, 2, 3, 4] ) # 1 by 4\n",
    "w = q[:, np.newaxis] # 4 by 1\n",
    "print (\"w = \")\n",
    "print (tabulate(w, tablefmt=\"grid\"), end=\"\\n\\n\")\n",
    "\n",
    "e = np.array( [10, 20, 30] ) # 1 by 3\n",
    "print (\"e = \")\n",
    "print (e, end=\"\\n\\n\")\n",
    "\n",
    "r = w + e # w stretched to 4 by 3 & e stretched to 4 by 3\n",
    "print (tabulate(r, tablefmt=\"grid\"), end=\"\\n\\n\")"
   ]
  },
  {
   "cell_type": "code",
   "execution_count": 4,
   "id": "8178e071",
   "metadata": {},
   "outputs": [
    {
     "name": "stdout",
     "output_type": "stream",
     "text": [
      "+------+------+------+\n",
      "|    1 |    2 |    3 |\n",
      "+------+------+------+\n",
      "|   10 |   20 |   30 |\n",
      "+------+------+------+\n",
      "|  100 |  200 |  300 |\n",
      "+------+------+------+\n",
      "| 1000 | 2000 | 3000 |\n",
      "+------+------+------+\n",
      "\n",
      "[10 10 10]\n",
      "\n",
      "+-------+-------+-------+\n",
      "|    10 |    20 |    30 |\n",
      "+-------+-------+-------+\n",
      "|   100 |   200 |   300 |\n",
      "+-------+-------+-------+\n",
      "|  1000 |  2000 |  3000 |\n",
      "+-------+-------+-------+\n",
      "| 10000 | 20000 | 30000 |\n",
      "+-------+-------+-------+\n",
      "\n"
     ]
    }
   ],
   "source": [
    "q = np.array( [ [1, 2, 3], [10, 20, 30], [100, 200, 300], [1000, 2000, 3000] ] ) # 4 by 3\n",
    "print (tabulate(q, tablefmt=\"grid\"), end=\"\\n\\n\")\n",
    "\n",
    "w = np.array( [10, 10, 10] ) # 1 by 3\n",
    "print (w, end=\"\\n\\n\")\n",
    "\n",
    "e = q * w # w stretched to 4 by 3 array\n",
    "print (tabulate(e, tablefmt=\"grid\"), end=\"\\n\\n\")"
   ]
  },
  {
   "cell_type": "code",
   "execution_count": 5,
   "id": "2700ae52",
   "metadata": {},
   "outputs": [
    {
     "ename": "ValueError",
     "evalue": "operands could not be broadcast together with shapes (4,) (3,) ",
     "output_type": "error",
     "traceback": [
      "\u001b[0;31m---------------------------------------------------------------------------\u001b[0m",
      "\u001b[0;31mValueError\u001b[0m                                Traceback (most recent call last)",
      "\u001b[0;32m/var/folders/wc/nvgbmh0x7ml8kz4pdsn0fp9w0000gn/T/ipykernel_54345/3160564186.py\u001b[0m in \u001b[0;36m<module>\u001b[0;34m\u001b[0m\n\u001b[1;32m      1\u001b[0m \u001b[0mq\u001b[0m \u001b[0;34m=\u001b[0m \u001b[0mnp\u001b[0m\u001b[0;34m.\u001b[0m\u001b[0marray\u001b[0m\u001b[0;34m(\u001b[0m \u001b[0;34m[\u001b[0m\u001b[0;36m1\u001b[0m\u001b[0;34m,\u001b[0m \u001b[0;36m2\u001b[0m\u001b[0;34m,\u001b[0m \u001b[0;36m3\u001b[0m\u001b[0;34m,\u001b[0m \u001b[0;36m4\u001b[0m\u001b[0;34m]\u001b[0m \u001b[0;34m)\u001b[0m \u001b[0;31m# 1 by 4\u001b[0m\u001b[0;34m\u001b[0m\u001b[0;34m\u001b[0m\u001b[0m\n\u001b[1;32m      2\u001b[0m \u001b[0mw\u001b[0m \u001b[0;34m=\u001b[0m \u001b[0mnp\u001b[0m\u001b[0;34m.\u001b[0m\u001b[0marray\u001b[0m\u001b[0;34m(\u001b[0m \u001b[0;34m[\u001b[0m\u001b[0;36m10\u001b[0m\u001b[0;34m,\u001b[0m \u001b[0;36m20\u001b[0m\u001b[0;34m,\u001b[0m \u001b[0;36m30\u001b[0m\u001b[0;34m]\u001b[0m \u001b[0;34m)\u001b[0m \u001b[0;31m# 1 by 3\u001b[0m\u001b[0;34m\u001b[0m\u001b[0;34m\u001b[0m\u001b[0m\n\u001b[0;32m----> 3\u001b[0;31m \u001b[0me\u001b[0m \u001b[0;34m=\u001b[0m \u001b[0mq\u001b[0m \u001b[0;34m*\u001b[0m \u001b[0mw\u001b[0m\u001b[0;34m\u001b[0m\u001b[0;34m\u001b[0m\u001b[0m\n\u001b[0m\u001b[1;32m      4\u001b[0m \u001b[0mprint\u001b[0m \u001b[0;34m(\u001b[0m\u001b[0mtabulate\u001b[0m\u001b[0;34m(\u001b[0m\u001b[0me\u001b[0m\u001b[0;34m,\u001b[0m \u001b[0mtablefmt\u001b[0m\u001b[0;34m=\u001b[0m\u001b[0;34m\"grid\"\u001b[0m\u001b[0;34m)\u001b[0m\u001b[0;34m,\u001b[0m \u001b[0mend\u001b[0m\u001b[0;34m=\u001b[0m\u001b[0;34m\"\\n\\n\"\u001b[0m\u001b[0;34m)\u001b[0m\u001b[0;34m\u001b[0m\u001b[0;34m\u001b[0m\u001b[0m\n",
      "\u001b[0;31mValueError\u001b[0m: operands could not be broadcast together with shapes (4,) (3,) "
     ]
    }
   ],
   "source": [
    "q = np.array( [1, 2, 3, 4] ) # 1 by 4\n",
    "w = np.array( [10, 20, 30] ) # 1 by 3\n",
    "e = q * w\n",
    "print (tabulate(e, tablefmt=\"grid\"), end=\"\\n\\n\")"
   ]
  },
  {
   "cell_type": "code",
   "execution_count": null,
   "id": "0e9fec18",
   "metadata": {},
   "outputs": [],
   "source": []
  }
 ],
 "metadata": {
  "kernelspec": {
   "display_name": "Python 3 (ipykernel)",
   "language": "python",
   "name": "python3"
  },
  "language_info": {
   "codemirror_mode": {
    "name": "ipython",
    "version": 3
   },
   "file_extension": ".py",
   "mimetype": "text/x-python",
   "name": "python",
   "nbconvert_exporter": "python",
   "pygments_lexer": "ipython3",
   "version": "3.9.13"
  }
 },
 "nbformat": 4,
 "nbformat_minor": 5
}
