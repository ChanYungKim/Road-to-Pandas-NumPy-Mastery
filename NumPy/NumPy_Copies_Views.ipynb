{
 "cells": [
  {
   "cell_type": "code",
   "execution_count": 1,
   "id": "3e927bfa",
   "metadata": {},
   "outputs": [],
   "source": [
    "import numpy as np\n",
    "from io import StringIO\n",
    "from pprint import pprint\n",
    "from tabulate import tabulate"
   ]
  },
  {
   "cell_type": "markdown",
   "id": "955c9a03",
   "metadata": {},
   "source": [
    "# Copies & Views\n",
    "\n",
    "### - View\n",
    "- changing certain metadata without changing the data buffer\n",
    "- any changes made to a view reflects in the original array\n",
    "- **basic indexing**\n",
    "- ndarray.view method\n",
    "\n",
    "### - Copy\n",
    "- duplication of both the data buffer and the metadata\n",
    "- copying is slower and memory-consuming\n",
    "- **advanced indexing**\n",
    "- ndarray.copy method"
   ]
  },
  {
   "cell_type": "code",
   "execution_count": 2,
   "id": "eed04646",
   "metadata": {},
   "outputs": [
    {
     "name": "stdout",
     "output_type": "stream",
     "text": [
      "q = \n",
      "+-----+-----+-----+-----+\n",
      "|  10 |  20 |  30 |  40 |\n",
      "+-----+-----+-----+-----+\n",
      "| 100 | 200 | 300 | 400 |\n",
      "+-----+-----+-----+-----+\n",
      "\n",
      "q_view = \n",
      "+-----+-----+-----+-----+\n",
      "|  10 |  20 |  30 |  40 |\n",
      "+-----+-----+-----+-----+\n",
      "| 100 | 200 | 300 | 400 |\n",
      "+-----+-----+-----+-----+\n",
      "\n",
      "q = \n",
      "+-----+-----+------+-----+\n",
      "|  10 |  20 |   30 |  40 |\n",
      "+-----+-----+------+-----+\n",
      "| 100 | 200 | 9999 | 400 |\n",
      "+-----+-----+------+-----+\n",
      "\n"
     ]
    }
   ],
   "source": [
    "q = np.array( [[10, 20, 30, 40],  [100, 200, 300, 400]] )\n",
    "print (\"q = \")\n",
    "print (tabulate(q, tablefmt=\"grid\"), end=\"\\n\\n\")\n",
    "\n",
    "q_view = q.view() # .view() method\n",
    "print (\"q_view = \")\n",
    "print (tabulate(q_view, tablefmt=\"grid\"), end=\"\\n\\n\")\n",
    "\n",
    "q_view[1, 2] = 9999\n",
    "print (\"q = \")\n",
    "print (tabulate(q, tablefmt=\"grid\"), end=\"\\n\\n\")"
   ]
  },
  {
   "cell_type": "code",
   "execution_count": 3,
   "id": "3df4f21d",
   "metadata": {
    "scrolled": true
   },
   "outputs": [
    {
     "name": "stdout",
     "output_type": "stream",
     "text": [
      "q = \n",
      "+-----+-----+-----+-----+\n",
      "|  10 |  20 |  30 |  40 |\n",
      "+-----+-----+-----+-----+\n",
      "| 100 | 200 | 300 | 400 |\n",
      "+-----+-----+-----+-----+\n",
      "\n",
      "q_basic = \n",
      "+-----+-----+-----+-----+\n",
      "|  10 |  20 |  30 |  40 |\n",
      "+-----+-----+-----+-----+\n",
      "| 100 | 200 | 300 | 400 |\n",
      "+-----+-----+-----+-----+\n",
      "\n",
      "q = \n",
      "+-----+-----+------+-----+\n",
      "|  10 |  20 |   30 |  40 |\n",
      "+-----+-----+------+-----+\n",
      "| 100 | 200 | 9999 | 400 |\n",
      "+-----+-----+------+-----+\n",
      "\n"
     ]
    }
   ],
   "source": [
    "q = np.array( [[10, 20, 30, 40],  [100, 200, 300, 400]] )\n",
    "print (\"q = \")\n",
    "print (tabulate(q, tablefmt=\"grid\"), end=\"\\n\\n\")\n",
    "\n",
    "q_basic = q[:] # basic indexing\n",
    "print (\"q_basic = \")\n",
    "print (tabulate(q_basic, tablefmt=\"grid\"), end=\"\\n\\n\")\n",
    "\n",
    "q_basic[1, 2] = 9999\n",
    "print (\"q = \")\n",
    "print (tabulate(q, tablefmt=\"grid\"), end=\"\\n\\n\")"
   ]
  },
  {
   "cell_type": "code",
   "execution_count": 4,
   "id": "80996b5d",
   "metadata": {},
   "outputs": [
    {
     "name": "stdout",
     "output_type": "stream",
     "text": [
      "w = \n",
      "+-----+-----+-----+-----+\n",
      "|  10 |  20 |  30 |  40 |\n",
      "+-----+-----+-----+-----+\n",
      "| 100 | 200 | 300 | 400 |\n",
      "+-----+-----+-----+-----+\n",
      "\n",
      "w_adv = \n",
      "+-----+-----+-----+-----+\n",
      "|  10 |  20 |  30 |  40 |\n",
      "+-----+-----+-----+-----+\n",
      "| 100 | 200 | 300 | 400 |\n",
      "+-----+-----+-----+-----+\n",
      "\n",
      "w_adv = \n",
      "+-----+-----+------+-----+\n",
      "|  10 |  20 |   30 |  40 |\n",
      "+-----+-----+------+-----+\n",
      "| 100 | 200 | 9999 | 400 |\n",
      "+-----+-----+------+-----+\n",
      "\n",
      "original  w = \n",
      "+-----+-----+-----+-----+\n",
      "|  10 |  20 |  30 |  40 |\n",
      "+-----+-----+-----+-----+\n",
      "| 100 | 200 | 300 | 400 |\n",
      "+-----+-----+-----+-----+\n",
      "\n"
     ]
    }
   ],
   "source": [
    "w = np.array( [[10, 20, 30, 40],  [100, 200, 300, 400]] )\n",
    "print (\"w = \")\n",
    "print (tabulate(w, tablefmt=\"grid\"), end=\"\\n\\n\")\n",
    "\n",
    "w_adv = w[ [0, 1] ] # advanced indexing\n",
    "print (\"w_adv = \")\n",
    "print (tabulate(w_adv, tablefmt=\"grid\"), end=\"\\n\\n\")\n",
    "\n",
    "w_adv[1, 2] = 9999\n",
    "print (\"w_adv = \")\n",
    "print (tabulate(w_adv, tablefmt=\"grid\"), end=\"\\n\\n\")\n",
    "\n",
    "print (\"original  w = \")\n",
    "print (tabulate(w, tablefmt=\"grid\"), end=\"\\n\\n\")"
   ]
  },
  {
   "cell_type": "code",
   "execution_count": 5,
   "id": "eca42843",
   "metadata": {},
   "outputs": [
    {
     "name": "stdout",
     "output_type": "stream",
     "text": [
      "e = \n",
      "+----+----+----+----+----+----+----+\n",
      "|  0 |  1 |  2 |  3 |  4 |  5 |  6 |\n",
      "+----+----+----+----+----+----+----+\n",
      "|  7 |  8 |  9 | 10 | 11 | 12 | 13 |\n",
      "+----+----+----+----+----+----+----+\n",
      "| 14 | 15 | 16 | 17 | 18 | 19 | 20 |\n",
      "+----+----+----+----+----+----+----+\n",
      "| 21 | 22 | 23 | 24 | 25 | 26 | 27 |\n",
      "+----+----+----+----+----+----+----+\n",
      "| 28 | 29 | 30 | 31 | 32 | 33 | 34 |\n",
      "+----+----+----+----+----+----+----+\n",
      "\n",
      "r = \n",
      "+----+----+----+\n",
      "|  9 | 10 | 11 |\n",
      "+----+----+----+\n",
      "| 16 | 17 | 18 |\n",
      "+----+----+----+\n",
      "| 30 | 31 | 32 |\n",
      "+----+----+----+\n",
      "\n",
      "r = \n",
      "+----+----+------+\n",
      "|  9 | 10 |   11 |\n",
      "+----+----+------+\n",
      "| 16 | 17 |   18 |\n",
      "+----+----+------+\n",
      "| 30 | 31 | 9999 |\n",
      "+----+----+------+\n",
      "\n",
      "original e = \n",
      "+----+----+----+----+----+----+----+\n",
      "|  0 |  1 |  2 |  3 |  4 |  5 |  6 |\n",
      "+----+----+----+----+----+----+----+\n",
      "|  7 |  8 |  9 | 10 | 11 | 12 | 13 |\n",
      "+----+----+----+----+----+----+----+\n",
      "| 14 | 15 | 16 | 17 | 18 | 19 | 20 |\n",
      "+----+----+----+----+----+----+----+\n",
      "| 21 | 22 | 23 | 24 | 25 | 26 | 27 |\n",
      "+----+----+----+----+----+----+----+\n",
      "| 28 | 29 | 30 | 31 | 32 | 33 | 34 |\n",
      "+----+----+----+----+----+----+----+\n",
      "\n"
     ]
    }
   ],
   "source": [
    "e = np.arange(35).reshape(5, 7)\n",
    "print (\"e = \")\n",
    "print (tabulate(e, tablefmt=\"grid\"), end=\"\\n\\n\")\n",
    "\n",
    "r = e[ [1, 2, 4], 2:5 ] # 3 by 3 array by advanced & basic indexing\n",
    "print (\"r = \")\n",
    "print (tabulate(r, tablefmt=\"grid\"), end=\"\\n\\n\")\n",
    "\n",
    "r[2, 2] = 9999\n",
    "print (\"r = \")\n",
    "print (tabulate(r, tablefmt=\"grid\"), end=\"\\n\\n\")\n",
    "\n",
    "print (\"original e = \")\n",
    "print (tabulate(e, tablefmt=\"grid\"), end=\"\\n\\n\")"
   ]
  },
  {
   "cell_type": "code",
   "execution_count": 6,
   "id": "0ebd5968",
   "metadata": {},
   "outputs": [
    {
     "name": "stdout",
     "output_type": "stream",
     "text": [
      "q = \n",
      "+----+----+----+----+----+\n",
      "|  0 |  1 |  2 |  3 |  4 |\n",
      "+----+----+----+----+----+\n",
      "|  5 |  6 |  7 |  8 |  9 |\n",
      "+----+----+----+----+----+\n",
      "| 10 | 11 | 12 | 13 | 14 |\n",
      "+----+----+----+----+----+\n",
      "| 15 | 16 | 17 | 18 | 19 |\n",
      "+----+----+----+----+----+\n",
      "\n",
      "w = \n",
      "+----+----+----+----+----+\n",
      "|  0 |  1 |  2 |  3 |  4 |\n",
      "+----+----+----+----+----+\n",
      "|  5 |  6 |  7 |  8 |  9 |\n",
      "+----+----+----+----+----+\n",
      "| 10 | 11 | 12 | 13 | 14 |\n",
      "+----+----+----+----+----+\n",
      "| 15 | 16 | 17 | 18 | 19 |\n",
      "+----+----+----+----+----+\n",
      "\n",
      "e = \n",
      "+----+----+----+----+----+\n",
      "|  0 |  1 |  2 |  3 |  4 |\n",
      "+----+----+----+----+----+\n",
      "|  5 |  6 |  7 |  8 |  9 |\n",
      "+----+----+----+----+----+\n",
      "| 10 | 11 | 12 | 13 | 14 |\n",
      "+----+----+----+----+----+\n",
      "| 15 | 16 | 17 | 18 | 19 |\n",
      "+----+----+----+----+----+\n",
      "\n",
      "[ 0  1  2  3  4  5  6  7  8  9 10 11 12 13 14 15 16 17 18 19]\n",
      "None\n"
     ]
    }
   ],
   "source": [
    "q = np.arange(20).reshape(4, 5) # reshape creates a view\n",
    "print (\"q = \")\n",
    "print (tabulate(q, tablefmt=\"grid\"), end=\"\\n\\n\")\n",
    "\n",
    "w = q.view() # .view method\n",
    "print (\"w = \")\n",
    "print (tabulate(w, tablefmt=\"grid\"), end=\"\\n\\n\")\n",
    "\n",
    "e = q.copy() # .copy method\n",
    "print (\"e = \")\n",
    "print (tabulate(e, tablefmt=\"grid\"), end=\"\\n\\n\")\n",
    "\n",
    "print (w.base) # the base array of w is 1\n",
    "print (e.base) # there is no base of e as it is a new copy"
   ]
  }
 ],
 "metadata": {
  "kernelspec": {
   "display_name": "Python 3 (ipykernel)",
   "language": "python",
   "name": "python3"
  },
  "language_info": {
   "codemirror_mode": {
    "name": "ipython",
    "version": 3
   },
   "file_extension": ".py",
   "mimetype": "text/x-python",
   "name": "python",
   "nbconvert_exporter": "python",
   "pygments_lexer": "ipython3",
   "version": "3.9.13"
  }
 },
 "nbformat": 4,
 "nbformat_minor": 5
}
